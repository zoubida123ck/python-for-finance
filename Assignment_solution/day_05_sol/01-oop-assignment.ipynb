{
 "cells": [
  {
   "cell_type": "markdown",
   "metadata": {},
   "source": [
    "# Oriented Object Programming Exercices"
   ]
  },
  {
   "cell_type": "markdown",
   "metadata": {},
   "source": [
    "## Exercice 1:\n",
    "\n",
    "- consedering the following code\n",
    "\n",
    "```python\n",
    "import datetime # we will use this for date objects\n",
    "\n",
    "class Person:\n",
    "\n",
    "    def __init__(self, name, surname, birthdate, address, telephone, email):\n",
    "        self.name = name\n",
    "        self.surname = surname\n",
    "        self.birthdate = birthdate\n",
    "\n",
    "        self.address = address\n",
    "        self.telephone = telephone\n",
    "        self.email = email\n",
    "\n",
    "    def age(self):\n",
    "        today = datetime.date.today()\n",
    "        age = today.year - self.birthdate.year\n",
    "\n",
    "        if today < datetime.date(today.year, self.birthdate.month, self.birthdate.day):\n",
    "            age -= 1\n",
    "\n",
    "        return age\n",
    "\n",
    "person = Person(\n",
    "    \"Jane\",\n",
    "    \"Doe\",\n",
    "    datetime.date(1992, 3, 12), # year, month, day\n",
    "    \"No. 12 Short Street, Greenville\",\n",
    "    \"555 456 0987\",\n",
    "    \"jane.doe@example.com\"\n",
    ")\n",
    "\n",
    "print(person.name)\n",
    "print(person.email)\n",
    "print(person.age())\n",
    "```\n",
    "Explain what the following variables refer to, and their scope:\n",
    "1. Person\n",
    "2. person\n",
    "3. surname\n",
    "4. self\n",
    "5. age (the function name)\n",
    "6. age (the variable used inside the function)\n",
    "7. self.email\n",
    "8. person.email"
   ]
  },
  {
   "cell_type": "markdown",
   "metadata": {},
   "source": [
    "### Answer to exercise 1\n",
    "1. `Person` is a class defined in the global scope. It is a global variable.\n",
    "2. `person` is an instance of the `Person` class. It is also a global variable.\n",
    "3. `surname` is a parameter passed into the `__init__` method – it is a local variable in the scope if the `__init__` method.\n",
    "4. `self` is a parameter passed into each instance method of the class – it will be replaced by the instance object when the method is called on the object with the . operator. It is a new local variable inside the scope of each of the methods – it just always has the same value, and by convention it is always given the same name to reflect this.\n",
    "5. `age` is a method of the `Person` class. It is a local variable in the scope of the class.\n",
    "6. `age` (the variable used inside the function) is a local variable inside the scope of the age method.\n",
    "7. `self.email` isn’t really a separate variable. It’s an example of how we can refer to attributes and methods of an object using a variable which refers to the object, the . operator and the name of the attribute or method. We use the `self` variable to refer to an object inside one of the object’s own methods – wherever the variable `self` is defined, we can use `self.email`, `self.age()`, etc..\n",
    "8. `person.email` is another example of the same thing. In the global scope, our `person` instance is referred to by the variable name person. Wherever `person` is defined, we can use `person.email`, `person.age()`, etc.."
   ]
  },
  {
   "cell_type": "markdown",
   "metadata": {},
   "source": [
    "## Exercise 2 \n",
    "Create a Class with instance attributes. Write a Python program to create a Vehicle class with instance attributes: \n",
    " - max_speed\n",
    " - mileage "
   ]
  },
  {
   "cell_type": "code",
   "execution_count": 1,
   "metadata": {},
   "outputs": [
    {
     "name": "stdout",
     "output_type": "stream",
     "text": [
      "240 18\n"
     ]
    }
   ],
   "source": [
    "class Vehicle:\n",
    "    def __init__(self, max_speed, mileage):\n",
    "        self.max_speed = max_speed\n",
    "        self.mileage = mileage\n",
    "\n",
    "modelX = Vehicle(240, 18)\n",
    "print(modelX.max_speed, modelX.mileage)"
   ]
  },
  {
   "cell_type": "markdown",
   "metadata": {},
   "source": [
    "## Exercice 3\n",
    "\n",
    "Create a Vehicle class without any variables and methods "
   ]
  },
  {
   "cell_type": "code",
   "execution_count": 2,
   "metadata": {},
   "outputs": [],
   "source": [
    "class Vehicle:\n",
    "    pass"
   ]
  },
  {
   "cell_type": "markdown",
   "metadata": {},
   "source": [
    "## Exercice 4\n",
    "\n",
    "Create a child class Bus that will inherit all of the variables and methods of the Vehicle class\n",
    "- Desired output:\n",
    "```Python\n",
    "#> Vehicle Name: School Volvo Speed: 180 Mileage: 12\n",
    "```"
   ]
  },
  {
   "cell_type": "code",
   "execution_count": 4,
   "metadata": {},
   "outputs": [
    {
     "name": "stdout",
     "output_type": "stream",
     "text": [
      "Vehicle Name: School Volvo Speed: 180 Mileage: 12\n"
     ]
    }
   ],
   "source": [
    "class Vehicle:\n",
    "\n",
    "    def __init__(self, name, max_speed, mileage):\n",
    "        self.name = name\n",
    "        self.max_speed = max_speed\n",
    "        self.mileage = mileage\n",
    "\n",
    "class Bus(Vehicle):\n",
    "    pass\n",
    "\n",
    "School_bus = Bus(\"School Volvo\", 180, 12)\n",
    "print(\"Vehicle Name:\", School_bus.name, \"Speed:\", School_bus.max_speed, \"Mileage:\", School_bus.mileage)"
   ]
  },
  {
   "cell_type": "markdown",
   "metadata": {},
   "source": [
    "## Exercice 5 (Class Inheritance)\n",
    "\n",
    "- Input\n",
    "Create a Bus class that inherits from the Vehicle class. Give the capacity argument of `Bus.seating_capacity()` a default value of 50.\n",
    "\n",
    "Use the following code for your parent Vehicle class.\n",
    "```Python\n",
    "class Vehicle:\n",
    "    def __init__(self, name, max_speed, mileage):\n",
    "        self.name = name\n",
    "        self.max_speed = max_speed\n",
    "        self.mileage = mileage\n",
    "\n",
    "    def seating_capacity(self, capacity):\n",
    "        return f\"The seating capacity of a {self.name} is {capacity} passengers\"\n",
    "```\n",
    "- Desired output:\n",
    "```Python\n",
    "#> The seating capacity of a bus is 50 passengers\n",
    "```"
   ]
  },
  {
   "cell_type": "code",
   "execution_count": 5,
   "metadata": {},
   "outputs": [
    {
     "name": "stdout",
     "output_type": "stream",
     "text": [
      "The seating capacity of a School Volvo is 50 passengers\n"
     ]
    }
   ],
   "source": [
    "class Vehicle:\n",
    "    def __init__(self, name, max_speed, mileage):\n",
    "        self.name = name\n",
    "        self.max_speed = max_speed\n",
    "        self.mileage = mileage\n",
    "\n",
    "    def seating_capacity(self, capacity):\n",
    "        return f\"The seating capacity of a {self.name} is {capacity} passengers\"\n",
    "\n",
    "class Bus(Vehicle):\n",
    "    # assign default value to capacity\n",
    "    def seating_capacity(self, capacity=50):\n",
    "        return super().seating_capacity(capacity=50)\n",
    "\n",
    "School_bus = Bus(\"School Volvo\", 180, 12)\n",
    "print(School_bus.seating_capacity())"
   ]
  },
  {
   "cell_type": "markdown",
   "metadata": {},
   "source": [
    "## Exercice 6\n",
    "\n",
    "Define a property that must have the same value for every class instance (object)\n",
    "\n",
    "Define a class attribute `\"color\"` with a default value white. I.e., Every Vehicle should be white.\n",
    "\n",
    "Use the following code for this exercise.\n",
    "\n",
    "```Python\n",
    "class Vehicle:\n",
    "\n",
    "    def __init__(self, name, max_speed, mileage):\n",
    "        self.name = name\n",
    "        self.max_speed = max_speed\n",
    "        self.mileage = mileage\n",
    "\n",
    "class Bus(Vehicle):\n",
    "    pass\n",
    "\n",
    "class Car(Vehicle):\n",
    "    pass\n",
    "```\n",
    "- Desiret output:\n",
    "```Python\n",
    "#> Color: White, Vehicle name: School Volvo, Speed: 180, Mileage: 12\n",
    "#> Color: White, Vehicle name: Audi Q5, Speed: 240, Mileage: 18\n",
    "```                "
   ]
  },
  {
   "cell_type": "code",
   "execution_count": 8,
   "metadata": {},
   "outputs": [
    {
     "name": "stdout",
     "output_type": "stream",
     "text": [
      "White School Volvo Speed: 180 Mileage: 12\n",
      "White Audi Q5 Speed: 240 Mileage: 18\n"
     ]
    }
   ],
   "source": [
    "class Vehicle:\n",
    "    # Class attribute\n",
    "    color = \"White\"\n",
    "\n",
    "    def __init__(self, name, max_speed, mileage):\n",
    "        self.name = name\n",
    "        self.max_speed = max_speed\n",
    "        self.mileage = mileage\n",
    "\n",
    "class Bus(Vehicle):\n",
    "    pass\n",
    "\n",
    "class Car(Vehicle):\n",
    "    pass\n",
    "\n",
    "School_bus = Bus(\"School Volvo\", 180, 12)\n",
    "print(School_bus.color, School_bus.name, \"Speed:\", School_bus.max_speed, \"Mileage:\", School_bus.mileage)\n",
    "\n",
    "car = Car(\"Audi Q5\", 240, 18)\n",
    "print(car.color, car.name, \"Speed:\", car.max_speed, \"Mileage:\", car.mileage)"
   ]
  },
  {
   "cell_type": "markdown",
   "metadata": {},
   "source": [
    "## Exercice 7  (Class Inheritance)\n",
    "- Input\n",
    "\n",
    "Create a Bus child class that inherits from the Vehicle class. The default fare charge of any vehicle is seating `capacity * 100`. If Vehicle is Bus instance, we need to add an extra 10% on full fare as a maintenance charge. So total fare for bus instance will become the `final amount = total fare + 10% of the total fare`.\n",
    "\n",
    "Note: The bus seating capacity is 50. so the final fare amount should be 5500. You need to override the fare() method of a Vehicle class in Bus class.\n",
    "\n",
    "Use the following code for your parent Vehicle class. We need to access the parent class from inside a method of a child class.\n",
    "```Python\n",
    "class Vehicle:\n",
    "    def __init__(self, name, mileage, capacity):\n",
    "        self.name = name\n",
    "        self.mileage = mileage\n",
    "        self.capacity = capacity\n",
    "\n",
    "    def fare(self):\n",
    "        return self.capacity * 100\n",
    "\n",
    "class Bus(Vehicle):\n",
    "    pass\n",
    "\n",
    "School_bus = Bus(\"School Volvo\", 12, 50)\n",
    "print(\"Total Bus fare is:\", School_bus.fare())\n",
    "```\n",
    "- Desired output:\n",
    "```Python\n",
    "#> Total Bus fare is: 5500.0\n",
    "```"
   ]
  },
  {
   "cell_type": "code",
   "execution_count": 10,
   "metadata": {},
   "outputs": [
    {
     "name": "stdout",
     "output_type": "stream",
     "text": [
      "Total Bus fare is: 5500.0\n"
     ]
    }
   ],
   "source": [
    "class Vehicle:\n",
    "    def __init__(self, name, mileage, capacity):\n",
    "        self.name = name\n",
    "        self.mileage = mileage\n",
    "        self.capacity = capacity\n",
    "\n",
    "    def fare(self):\n",
    "        return self.capacity * 100\n",
    "\n",
    "class Bus(Vehicle):\n",
    "    def fare(self):\n",
    "        amount = super().fare()\n",
    "        amount += amount * 10 / 100\n",
    "        return amount\n",
    "\n",
    "School_bus = Bus(\"School Volvo\", 12, 50)\n",
    "print(\"Total Bus fare is:\", School_bus.fare())"
   ]
  },
  {
   "cell_type": "markdown",
   "metadata": {},
   "source": [
    "## Exercice 8  (Check type of an object)\n",
    "\n",
    "Write a program to determine which class a given Bus object belongs to.\n",
    "- Input\n",
    "```Python\n",
    "class Vehicle:\n",
    "    def __init__(self, name, mileage, capacity):\n",
    "        self.name = name\n",
    "        self.mileage = mileage\n",
    "        self.capacity = capacity\n",
    "```\n",
    "```Python\n",
    "class Bus(Vehicle):\n",
    "    pass\n",
    "School_bus = Bus(\"School Volvo\", 12, 50)\n",
    "```\n"
   ]
  },
  {
   "cell_type": "code",
   "execution_count": 30,
   "metadata": {},
   "outputs": [
    {
     "name": "stdout",
     "output_type": "stream",
     "text": [
      "<class '__main__.Bus'>\n"
     ]
    }
   ],
   "source": [
    "class Vehicle:\n",
    "    def __init__(self, name, mileage, capacity):\n",
    "        self.name = name\n",
    "        self.mileage = mileage\n",
    "        self.capacity = capacity\n",
    "\n",
    "class Bus(Vehicle):\n",
    "    pass\n",
    "\n",
    "School_bus = Bus(\"School Volvo\", 12, 50)\n",
    "\n",
    "# Python's built-in type()\n",
    "print(type(School_bus))"
   ]
  }
 ],
 "metadata": {
  "hide_input": false,
  "kernelspec": {
   "display_name": "Python 3 (ipykernel)",
   "language": "python",
   "name": "python3"
  },
  "language_info": {
   "codemirror_mode": {
    "name": "ipython",
    "version": 3
   },
   "file_extension": ".py",
   "mimetype": "text/x-python",
   "name": "python",
   "nbconvert_exporter": "python",
   "pygments_lexer": "ipython3",
   "version": "3.8.10"
  }
 },
 "nbformat": 4,
 "nbformat_minor": 4
}
