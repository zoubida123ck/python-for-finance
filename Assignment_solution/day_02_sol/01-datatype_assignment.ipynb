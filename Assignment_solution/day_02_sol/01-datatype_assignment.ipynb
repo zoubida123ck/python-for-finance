{
 "cells": [
  {
   "cell_type": "markdown",
   "metadata": {},
   "source": [
    "# Datatype exercises"
   ]
  },
  {
   "cell_type": "markdown",
   "metadata": {},
   "source": [
    "## Exercise 1: Numbers"
   ]
  },
  {
   "cell_type": "markdown",
   "metadata": {},
   "source": [
    "##  Creating formulas\n",
    "\n",
    "Write the following mathematical formula in Python:\n",
    "\n",
    "\\begin{align}\n",
    " result = 6a^3 - \\frac{8b^2 }{4c} + 11\n",
    "\\end{align}\n",
    "\n",
    "```python\n",
    "a = 2\n",
    "b = 3\n",
    "c = 2\n",
    "```\n",
    "\n",
    "> write your formula as \n",
    "```python\n",
    "result = \n",
    "```\n",
    "\n",
    "It must verify\n",
    "```python\n",
    ">>> assert result == 50\n",
    "```\n",
    "\n",
    "## Floating point pitfalls\n",
    "\n",
    "Show that `0.1 + 0.2 == 0.3`"
   ]
  },
  {
   "cell_type": "code",
   "execution_count": 8,
   "metadata": {},
   "outputs": [
    {
     "name": "stdout",
     "output_type": "stream",
     "text": [
      "50.0\n",
      "0.30000000000000004 0.1\n"
     ]
    },
    {
     "ename": "AssertionError",
     "evalue": "",
     "output_type": "error",
     "traceback": [
      "\u001b[0;31m---------------------------------------------------------------------------\u001b[0m",
      "\u001b[0;31mAssertionError\u001b[0m                            Traceback (most recent call last)",
      "\u001b[0;32m/tmp/ipykernel_802/1403739208.py\u001b[0m in \u001b[0;36m<module>\u001b[0;34m\u001b[0m\n\u001b[1;32m      6\u001b[0m \u001b[0;32massert\u001b[0m \u001b[0mresult\u001b[0m \u001b[0;34m==\u001b[0m \u001b[0;36m50\u001b[0m\u001b[0;34m\u001b[0m\u001b[0;34m\u001b[0m\u001b[0m\n\u001b[1;32m      7\u001b[0m \u001b[0mprint\u001b[0m \u001b[0;34m(\u001b[0m\u001b[0;36m0.1\u001b[0m \u001b[0;34m+\u001b[0m \u001b[0;36m0.2\u001b[0m\u001b[0;34m,\u001b[0m \u001b[0;36m0.1\u001b[0m\u001b[0;34m)\u001b[0m \u001b[0;31m# result not accurate\u001b[0m\u001b[0;34m\u001b[0m\u001b[0;34m\u001b[0m\u001b[0m\n\u001b[0;32m----> 8\u001b[0;31m \u001b[0;32massert\u001b[0m \u001b[0;34m(\u001b[0m\u001b[0;36m0.1\u001b[0m \u001b[0;34m+\u001b[0m \u001b[0;36m0.2\u001b[0m \u001b[0;34m==\u001b[0m \u001b[0;36m0.3\u001b[0m\u001b[0;34m)\u001b[0m \u001b[0;31m# will cause assertion error\u001b[0m\u001b[0;34m\u001b[0m\u001b[0;34m\u001b[0m\u001b[0m\n\u001b[0m",
      "\u001b[0;31mAssertionError\u001b[0m: "
     ]
    }
   ],
   "source": [
    "def formula(a, b, c):\n",
    "    return 6 * (a**3) - (8 * (b**2)) / (4 * c) + 11\n",
    "\n",
    "result = formula(2, 3, 2)\n",
    "print(result)\n",
    "assert result == 50\n",
    "print (0.1 + 0.2, 0.1) # result not accurate\n",
    "assert (0.1 + 0.2 == 0.3) # will cause assertion error"
   ]
  },
  {
   "cell_type": "markdown",
   "metadata": {},
   "source": [
    "## Execise 2: Lists"
   ]
  },
  {
   "cell_type": "markdown",
   "metadata": {},
   "source": [
    "## Fill the missing pieces\n",
    "\n",
    "Fill the `____` parts of the code below.\n",
    "\n",
    "```python\n",
    "# Let's create an empty list\n",
    "my_list = ____\n",
    "\n",
    "# Let's add some values\n",
    "my_list.____('Python')\n",
    "my_list.____('is ok')\n",
    "my_list.____('sometimes')\n",
    "\n",
    "# Let's remove 'sometimes'\n",
    "my_list.____('sometimes')\n",
    "\n",
    "# Let's change the second item\n",
    "my_list[____] = 'is neat'\n",
    "```\n",
    "\n",
    "Let's verify that it's correct\n",
    "```python\n",
    ">>> assert my_list == ['Python', 'is neat']\n",
    "```"
   ]
  },
  {
   "cell_type": "code",
   "execution_count": 1,
   "metadata": {},
   "outputs": [
    {
     "ename": "AssertionError",
     "evalue": "",
     "output_type": "error",
     "traceback": [
      "\u001b[0;31m---------------------------------------------------------------------------\u001b[0m",
      "\u001b[0;31mAssertionError\u001b[0m                            Traceback (most recent call last)",
      "\u001b[0;32m/tmp/ipykernel_424/2719121758.py\u001b[0m in \u001b[0;36m<module>\u001b[0;34m\u001b[0m\n\u001b[1;32m     13\u001b[0m \u001b[0mmy_list\u001b[0m\u001b[0;34m[\u001b[0m\u001b[0;36m1\u001b[0m\u001b[0;34m]\u001b[0m \u001b[0;34m=\u001b[0m \u001b[0;34m'is neat'\u001b[0m\u001b[0;34m\u001b[0m\u001b[0;34m\u001b[0m\u001b[0m\n\u001b[1;32m     14\u001b[0m \u001b[0;34m\u001b[0m\u001b[0m\n\u001b[0;32m---> 15\u001b[0;31m \u001b[0;32massert\u001b[0m \u001b[0mmy_list\u001b[0m \u001b[0;34m==\u001b[0m \u001b[0;34m[\u001b[0m\u001b[0;34m'Python'\u001b[0m\u001b[0;34m,\u001b[0m \u001b[0;34m'i neat'\u001b[0m\u001b[0;34m]\u001b[0m\u001b[0;34m\u001b[0m\u001b[0;34m\u001b[0m\u001b[0m\n\u001b[0m\u001b[1;32m     16\u001b[0m \u001b[0;34m\u001b[0m\u001b[0m\n\u001b[1;32m     17\u001b[0m \u001b[0;31m# refer to the python documentation for more information https://docs.python.org/3/tutorial/datastructures.html\u001b[0m\u001b[0;34m\u001b[0m\u001b[0;34m\u001b[0m\u001b[0;34m\u001b[0m\u001b[0m\n",
      "\u001b[0;31mAssertionError\u001b[0m: "
     ]
    }
   ],
   "source": [
    "# Let's create an empty list\n",
    "my_list = []\n",
    "\n",
    "# Let's add some values\n",
    "my_list.append('Python') # insert(i, e) for adding at specific index, extend(iterable) for adding multiple elements, \n",
    "my_list.append('is ok')\n",
    "my_list.append('sometimes')\n",
    "\n",
    "# Let's remove 'sometimes'\n",
    "my_list.remove('sometimes') # pop() removing last element\n",
    "\n",
    "# Let's change the second item\n",
    "my_list[1] = 'is neat'\n",
    "\n",
    "assert my_list == ['Python', 'i neat']\n",
    "\n",
    "# refer to the python documentation for more information https://docs.python.org/3/tutorial/datastructures.html"
   ]
  },
  {
   "cell_type": "markdown",
   "metadata": {},
   "source": [
    "## Create a new list without modifiying the original one\n",
    "\n",
    "```python\n",
    "original = ['I', 'am', 'learning', 'hacking', 'in']\n",
    "```\n",
    "\n",
    "> Your implementation here\n",
    "```python\n",
    "modified = \n",
    "```\n",
    "\n",
    "```python\n",
    ">>> assert original == ['I', 'am', 'learning', 'hacking', 'in']\n",
    ">>> assert modified == ['I', 'am', 'learning', 'lists', 'in', 'Python']\n",
    "```"
   ]
  },
  {
   "cell_type": "code",
   "execution_count": 2,
   "metadata": {},
   "outputs": [],
   "source": [
    "original = ['I', 'am', 'learning', 'hacking', 'in']\n",
    "\n",
    "# Create a deep copy of original list\n",
    "modified = original.copy()\n",
    "# change the fourth element\n",
    "modified[3] = 'lists'\n",
    "# Add to end of the modified list\n",
    "modified.append('Python')\n",
    "\n",
    "assert original == ['I', 'am', 'learning', 'hacking', 'in']\n",
    "assert modified == ['I', 'am', 'learning', 'lists', 'in', 'Python']"
   ]
  },
  {
   "cell_type": "markdown",
   "metadata": {},
   "source": [
    "## Create a merged sorted list\n",
    "\n",
    "```python\n",
    "list1 = [6, 12, 5]\n",
    "list2 = [6.2, 0, 14, 1]\n",
    "list3 = [0.9]\n",
    "```\n",
    "\n",
    "> Your implementation here\n",
    "```python\n",
    "my_list =\n",
    "```\n",
    "\n",
    "```python\n",
    ">>> assert my_list == [14, 12, 6.2, 6, 5, 1, 0.9, 0]\n",
    "```"
   ]
  },
  {
   "cell_type": "code",
   "execution_count": 3,
   "metadata": {},
   "outputs": [
    {
     "name": "stdout",
     "output_type": "stream",
     "text": [
      "[14, 12, 6.2, 6, 5, 1, 0.9, 0]\n"
     ]
    }
   ],
   "source": [
    "# Declare initial lists\n",
    "list1 = [6, 12, 5]\n",
    "list2 = [6.2, 0, 14, 1]\n",
    "list3 = [0.9]\n",
    "\n",
    "my_list = list1 + list2 + list3\n",
    "my_list.sort(reverse=True)\n",
    "assert my_list == [14, 12, 6.2, 6, 5, 1, 0.9, 0]\n",
    "print(my_list)"
   ]
  },
  {
   "cell_type": "markdown",
   "metadata": {},
   "source": [
    "## Execise 3: Dictionaries"
   ]
  },
  {
   "cell_type": "markdown",
   "metadata": {},
   "source": [
    "## Populating a dictionary\n",
    "\n",
    "Create a dictionary by using all the given variables.\n",
    "\n",
    "```python\n",
    "first_name = 'John'\n",
    "last_name = 'Doe'\n",
    "favorite_hobby = 'Python'\n",
    "sports_hobby = 'gym'\n",
    "age = 82\n",
    "```\n",
    "```python\n",
    "my_dict =\n",
    "```\n",
    "\n",
    "```python\n",
    ">>> assert my_dict == {\n",
    "        'name': 'John Doe',\n",
    "        'age': 82,\n",
    "        'hobbies': ['Python', 'gym']\n",
    "    }\n",
    "```"
   ]
  },
  {
   "cell_type": "code",
   "execution_count": 5,
   "metadata": {},
   "outputs": [
    {
     "name": "stdout",
     "output_type": "stream",
     "text": [
      "{'name': 'John Doe', 'age': 82, 'hobbies': ['Python', 'gym']}\n"
     ]
    }
   ],
   "source": [
    "first_name = 'John'\n",
    "last_name = 'Doe'\n",
    "favorite_hobby = 'Python'\n",
    "sports_hobby = 'gym'\n",
    "age = 82\n",
    "\n",
    "my_dict = {\n",
    "    'name': \" \".join([first_name, last_name]),\n",
    "    'age': age,\n",
    "    'hobbies': [favorite_hobby, sports_hobby]\n",
    "}\n",
    "print(my_dict)\n",
    "assert my_dict == {\n",
    "        'name': 'John Doe',\n",
    "        'age': 82,\n",
    "        'hobbies': ['Python', 'gym']\n",
    "    }"
   ]
  },
  {
   "cell_type": "markdown",
   "metadata": {},
   "source": [
    "## Accessing and merging dictionaries\n",
    "\n",
    "Combine `dict1`, `dict2`, and `dict3` into `my_dict`. In addition, get the value of `special_key` from `my_dict` into a `special_value` variable. Note that original dictionaries should stay untouched and `special_key` should be removed from `my_dict`.\n",
    "\n",
    "```python\n",
    "dict1 = dict(key1='This is not that hard', key2='Python is still cool')\n",
    "dict2 = {'key1': 123, 'special_key': 'secret'}\n",
    "# This is also a away to initialize a dict (list of tuples) \n",
    "dict3 = dict([('key2', 456), ('keyX', 'X')])\n",
    "```\n",
    "\n",
    "> Your impelementation\n",
    "```python\n",
    "my_dict = \n",
    "special_value = \n",
    "```\n",
    "\n",
    "```python\n",
    ">>> assert my_dict == {'key1': 123, 'key2': 456, 'keyX': 'X'}\n",
    ">>> assert special_value == 'secret'\n",
    "\n",
    ">>> # Let's check that the originals are untouched\n",
    ">>> assert dict1 == {\n",
    "        'key1': 'This is not that hard',\n",
    "        'key2': 'Python is still cool'\n",
    "    }\n",
    ">>> assert dict2 == {'key1': 123, 'special_key': 'secret'}\n",
    ">>> assert dict3 == {'key2': 456, 'keyX': 'X'}\n",
    "```"
   ]
  },
  {
   "cell_type": "code",
   "execution_count": 6,
   "metadata": {},
   "outputs": [],
   "source": [
    "dict1 = dict(key1='This is not that hard', key2='Python is still cool')\n",
    "dict2 = {'key1': 123, 'special_key': 'secret'}\n",
    "# This is also a away to initialize a dict (list of tuples) \n",
    "dict3 = dict([('key2', 456), ('keyX', 'X')])\n",
    "\n",
    "my_dict = {**dict1, **dict2, **dict3}\n",
    "special_value = my_dict.pop('special_key')\n",
    "\n",
    "assert my_dict == {'key1': 123, 'key2': 456, 'keyX': 'X'}\n",
    "assert special_value == 'secret'\n",
    "\n",
    "# Let's check that the originals are untouched\n",
    "assert dict1 == {\n",
    "        'key1': 'This is not that hard',\n",
    "        'key2': 'Python is still cool'\n",
    "    }\n",
    "assert dict2 == {'key1': 123, 'special_key': 'secret'}\n",
    "assert dict3 == {'key2': 456, 'keyX': 'X'}"
   ]
  },
  {
   "cell_type": "markdown",
   "metadata": {},
   "source": [
    "## Execise 4: Functions"
   ]
  },
  {
   "cell_type": "markdown",
   "metadata": {},
   "source": [
    "## Fill the missing pieces of the `count_even_numbers` function\n",
    "\n",
    "Fill `____` pieces of the `count_even_numbers` implemention in order to pass the assertions. You can assume that `numbers` argument is a list of integers.\n",
    "\n",
    "```python\n",
    "____ count_even_numbers(numbers):\n",
    "    count = 0\n",
    "    for num in ____:\n",
    "        if ____ % 2 == ____:\n",
    "            count += ____\n",
    "    _____ _____\n",
    "```\n",
    "\n",
    "```python\n",
    ">>> assert count_even_numbers([1, 2, 3, 4, 5, 6]) == 3\n",
    ">>> assert count_even_numbers([1, 3, 5, 7]) == 0\n",
    ">>> assert count_even_numbers([-2, 2, -10, 8]) == 4\n",
    "```"
   ]
  },
  {
   "cell_type": "code",
   "execution_count": 7,
   "metadata": {},
   "outputs": [],
   "source": [
    "def count_even_numbers(numbers):\n",
    "    count = 0\n",
    "    for num in numbers:\n",
    "        if num % 2 == 0:\n",
    "            count += 1\n",
    "    return count\n",
    "assert count_even_numbers([1, 2, 3, 4, 5, 6]) == 3\n",
    "assert count_even_numbers([1, 3, 5, 7]) == 0\n",
    "assert count_even_numbers([-2, 2, -10, 8]) == 4"
   ]
  },
  {
   "cell_type": "markdown",
   "metadata": {},
   "source": [
    "## Searching for wanted people\n",
    "\n",
    "Implement `find_wanted_people` function which takes a list of names (strings) as argument. The function should return a list of names which are present both in `WANTED_PEOPLE` and in the name list given as argument to the function.\n",
    "\n",
    "```python\n",
    "WANTED_PEOPLE = ['John Doe', 'Clint Eastwood', 'Chuck Norris']\n",
    "```\n",
    "\n",
    "```python\n",
    ">>> people_to_check1 = ['Donald Duck', 'Clint Eastwood', 'John Doe', 'Barack Obama']\n",
    ">>> wanted1 = find_wanted_people(people_to_check1)\n",
    ">>> assert len(wanted1) == 2\n",
    ">>> assert 'John Doe' in wanted1\n",
    ">>> assert 'Clint Eastwood'in wanted1\n",
    "\n",
    ">>> people_to_check2 = ['Donald Duck', 'Mickey Mouse', 'Zorro', 'Superman', 'Robin Hood']\n",
    ">>> wanted2 = find_wanted_people(people_to_check2)\n",
    ">>> assert wanted2 == []\n",
    "```"
   ]
  },
  {
   "cell_type": "code",
   "execution_count": 8,
   "metadata": {},
   "outputs": [],
   "source": [
    "WANTED_PEOPLE = ['John Doe', 'Clint Eastwood', 'Chuck Norris']\n",
    "def find_wanted_people(names_list):\n",
    "    # look for intersection of the two lists after convert them to sets\n",
    "    return list(set(names_list) & set(WANTED_PEOPLE))\n",
    "\n",
    "people_to_check1 = ['Donald Duck', 'Clint Eastwood', 'John Doe', 'Barack Obama']\n",
    "wanted1 = find_wanted_people(people_to_check1)\n",
    "\n",
    "assert len(wanted1) == 2\n",
    "assert 'John Doe' in wanted1\n",
    "assert 'Clint Eastwood'in wanted1\n",
    "\n",
    "people_to_check2 = ['Donald Duck', 'Mickey Mouse', 'Zorro', 'Superman', 'Robin Hood']\n",
    "wanted2 = find_wanted_people(people_to_check2)\n",
    "assert wanted2 == []"
   ]
  },
  {
   "cell_type": "markdown",
   "metadata": {},
   "source": [
    "## Counting average length of words in a sentence\n",
    "\n",
    "Create a function `average_length_of_words` which takes a string as an argument and returns the average length of the words in the string. You can assume that there is a single space between each word and that the input does not have punctuation. The result should be rounded to one decimal place (hint: see [`round`](https://docs.python.org/3/library/functions.html#round)).\n",
    "\n",
    "```python\n",
    ">>> assert average_length_of_words('only four lett erwo rdss') == 4\n",
    ">>> assert average_length_of_words('one two three') == 3.7\n",
    ">>> assert average_length_of_words('one two three four') == 3.8\n",
    ">>> assert average_length_of_words('') == 0\n",
    "```"
   ]
  },
  {
   "cell_type": "code",
   "execution_count": 9,
   "metadata": {},
   "outputs": [],
   "source": [
    "def average_length_of_words(s):\n",
    "    s_l = s.split(' ')\n",
    "    l = 0\n",
    "    for e in s_l:\n",
    "        l += len(e)\n",
    "    return round(l / len(s_l), 1)\n",
    "\n",
    "assert average_length_of_words('only four lett erwo rdss') == 4\n",
    "assert average_length_of_words('one two three') == 3.7\n",
    "assert average_length_of_words('one two three four') == 3.8\n",
    "assert average_length_of_words('') == 0"
   ]
  },
  {
   "cell_type": "markdown",
   "metadata": {},
   "source": [
    "## Check Palindrome Number\n",
    "\n",
    "Write a program to check if the given number is a palindrome number.\n",
    "\n",
    "A palindrome number is a number that is same after reverse. For example 545, is the palindrome numbers\n",
    "\n",
    "```python\n",
    "original number 121\n",
    ">>> Yes. given number is palindrome number\n",
    "\n",
    "original number 125\n",
    ">>> No. given number is not palindrome number\n",
    "```"
   ]
  },
  {
   "cell_type": "code",
   "execution_count": 12,
   "metadata": {},
   "outputs": [
    {
     "name": "stdout",
     "output_type": "stream",
     "text": [
      "1211 is not palindrome number\n",
      "125 is not palindrome number\n"
     ]
    }
   ],
   "source": [
    "def palindrom(num):\n",
    "    s = str(num)\n",
    "    half = len(s) // 2\n",
    "    for i in range(half):\n",
    "        if s[i] != s[len(s) - i - 1]:\n",
    "            return False\n",
    "    return True\n",
    "number_1 = 1211\n",
    "print(number_1, \"is\" if palindrom(number_1) else \"is not\", \"palindrome number\")\n",
    "\n",
    "number_2 = 125\n",
    "print(number_2, \"is\" if palindrom(number_2) else \"is not\", \"palindrome number\")"
   ]
  },
  {
   "cell_type": "markdown",
   "metadata": {},
   "source": [
    "## Execise 5: Strings"
   ]
  },
  {
   "cell_type": "markdown",
   "metadata": {},
   "source": [
    "## Fill missing pieces\n",
    "\n",
    "Fill `____` pieces below to have correct values for `lower_cased`, `stripped` and `stripped_lower_case` variables.\n",
    "\n",
    "```python\n",
    "original = ' Python strings are COOL! '\n",
    "lower_cased = original._____\n",
    "stripped = ____.strip()\n",
    "stripped_lower_cased = original._____._____\n",
    "```\n",
    "\n",
    "Let's verify that the implementation is correct by running the cell below. `assert` will raise `AssertionError` if the statement is not true.  \n",
    "\n",
    "```python\n",
    ">>> assert lower_cased == ' python strings are cool! '\n",
    ">>> assert stripped == 'Python strings are COOL!'\n",
    ">>> assert stripped_lower_cased == 'python strings are cool!'\n",
    "```"
   ]
  },
  {
   "cell_type": "code",
   "execution_count": 13,
   "metadata": {},
   "outputs": [],
   "source": [
    "original = ' Python strings are COOL! '\n",
    "lower_cased = original.lower()\n",
    "stripped = original.strip()\n",
    "stripped_lower_cased = original.strip().lower()\n",
    "\n",
    "assert lower_cased == ' python strings are cool! '\n",
    "assert stripped == 'Python strings are COOL!'\n",
    "assert stripped_lower_cased == 'python strings are cool!'"
   ]
  },
  {
   "cell_type": "markdown",
   "metadata": {},
   "source": [
    "## Prettify ugly string\n",
    "\n",
    "Use `str` methods to convert `ugly` to wanted `pretty`.\n",
    "\n",
    "```python\n",
    "ugly = ' tiTle of MY new Book\\n\\n'\n",
    "```\n",
    "\n",
    "> Your implementation:\n",
    "```python\n",
    "pretty = 'TODO'\n",
    "```\n",
    "\n",
    "Let's make sure that it does what we want. `assert` raises [`AssertionError`](https://docs.python.org/3/library/exceptions.html#AssertionError) if the statement is not `True`.\n",
    "\n",
    "```python\n",
    ">>> print('pretty: {}'.format(pretty))\n",
    ">>> assert pretty == 'Title Of My New Book'\n",
    "```"
   ]
  },
  {
   "cell_type": "code",
   "execution_count": 14,
   "metadata": {},
   "outputs": [
    {
     "name": "stdout",
     "output_type": "stream",
     "text": [
      "pretty: Title Of My New Book\n"
     ]
    }
   ],
   "source": [
    "ugly = ' tiTle of MY new Book\\n\\n'\n",
    "\n",
    "pretty = ugly.lower()\n",
    "pretty = pretty.strip()\n",
    "pretty = pretty.title()\n",
    "\n",
    "print('pretty: {}'.format(pretty))\n",
    "assert pretty == 'Title Of My New Book'"
   ]
  },
  {
   "cell_type": "markdown",
   "metadata": {},
   "source": [
    "## Format string based on existing variables\n",
    "\n",
    "Create `sentence` by using `verb`, `language`, and `punctuation` and any other strings you may need.\n",
    "\n",
    "```python\n",
    "verb = 'is'\n",
    "language = 'Python'\n",
    "punctuation = '!'\n",
    "```\n",
    "\n",
    "> Your implementation:\n",
    "```python\n",
    "sentence = 'TODO'\n",
    "```\n",
    "\n",
    "```python\n",
    ">>> print('sentence: {}'.format(sentence))\n",
    ">>> assert sentence == 'Learning Python is fun!'\n",
    "```"
   ]
  },
  {
   "cell_type": "code",
   "execution_count": 15,
   "metadata": {},
   "outputs": [
    {
     "name": "stdout",
     "output_type": "stream",
     "text": [
      "sentence: Learning Python is fun!\n"
     ]
    }
   ],
   "source": [
    "verb = 'is'\n",
    "language = 'Python'\n",
    "punctuation = '!'\n",
    "\n",
    "sentence = 'Learning {} {} fun{}'.format(language, verb, punctuation)\n",
    "print('sentence: {}'.format(sentence))\n",
    "assert sentence == 'Learning Python is fun!'"
   ]
  },
  {
   "cell_type": "markdown",
   "metadata": {},
   "source": [
    "## Execise 6: For Loops"
   ]
  },
  {
   "cell_type": "markdown",
   "metadata": {},
   "source": [
    "## Fill the missing pieces\n",
    "\n",
    "Fill the `____` parts in the code below.\n",
    "\n",
    "```python\n",
    "words = ['PYTHON', 'JOHN', 'chEEse', 'hAm', 'DOE', '123']\n",
    "upper_case_words = []\n",
    "\n",
    "for ____ in words:\n",
    "    if ____.isupper():\n",
    "        ____.append(____)\n",
    "\n",
    "        \n",
    ">>> assert upper_case_words == ['PYTHON', 'JOHN', 'DOE']        \n",
    "```"
   ]
  },
  {
   "cell_type": "code",
   "execution_count": 16,
   "metadata": {},
   "outputs": [],
   "source": [
    "words = ['PYTHON', 'JOHN', 'chEEse', 'hAm', 'DOE', '123']\n",
    "upper_case_words = []\n",
    "\n",
    "for e in words:\n",
    "    if e.isupper():\n",
    "        upper_case_words.append(e)\n",
    "\n",
    "\n",
    "assert upper_case_words == ['PYTHON', 'JOHN', 'DOE']"
   ]
  },
  {
   "cell_type": "markdown",
   "metadata": {},
   "source": [
    "## Calculate the sum of dict values\n",
    "\n",
    "Calculate the sum of the values in `magic_dict` by taking only into account numeric values (hint: see [isinstance](https://docs.python.org/3/library/functions.html#isinstance)). \n",
    "\n",
    "```python\n",
    "magic_dict = dict(val1=44, val2='secret value', val3=55.0, val4=1)\n",
    "```\n",
    "```python\n",
    "sum_of_values =     \n",
    "```\n",
    "\n",
    "```python\n",
    ">>> assert sum_of_values == 100\n",
    "```"
   ]
  },
  {
   "cell_type": "code",
   "execution_count": 17,
   "metadata": {},
   "outputs": [],
   "source": [
    "magic_dict = dict(val1=44, val2='secret value', val3=55.0, val4=1)\n",
    "\n",
    "sum_of_values = 0    \n",
    "for e in  magic_dict.values():\n",
    "    if isinstance(e, (int, float)):\n",
    "        sum_of_values += e\n",
    "\n",
    "assert sum_of_values == 100"
   ]
  },
  {
   "cell_type": "markdown",
   "metadata": {},
   "source": [
    "## Create a list of strings based on a list of numbers\n",
    "\n",
    "The rules:\n",
    "* If the number is a multiple of five and odd, the string should be `'five odd'`\n",
    "* If the number is a multiple of five and even, the string should be `'five even'`\n",
    "* If the number is odd, the string is `'odd'`\n",
    "* If the number is even, the string is `'even'`\n",
    "\n",
    "```python\n",
    "numbers = [1, 3, 4, 6, 81, 80, 100, 95]\n",
    "```\n",
    "```python\n",
    "my_list =\n",
    "```\n",
    "\n",
    "```python\n",
    ">>> assert my_list == ['odd', 'odd', 'even', 'even', 'odd', 'five even', 'five even', 'five odd']\n",
    "```"
   ]
  },
  {
   "cell_type": "code",
   "execution_count": 18,
   "metadata": {},
   "outputs": [],
   "source": [
    "numbers = [1, 3, 4, 6, 81, 80, 100, 95]\n",
    "\n",
    "my_list = []\n",
    "\n",
    "for e in numbers:\n",
    "    if e % 5 == 0:\n",
    "        if e % 2 == 0: my_list.append('five even')\n",
    "        else: my_list.append('five odd')\n",
    "    elif e % 2 == 0: my_list.append('even')\n",
    "    else: my_list.append('odd')\n",
    "\n",
    "assert my_list == ['odd', 'odd', 'even', 'even', 'odd', 'five even', 'five even', 'five odd']"
   ]
  },
  {
   "cell_type": "markdown",
   "metadata": {},
   "source": [
    "## Execise 7: Conditionals"
   ]
  },
  {
   "cell_type": "markdown",
   "metadata": {},
   "source": [
    "## `if-elif-else`\n",
    "\n",
    "Fill missing pieces (`____`) of the following code such that prints make sense.\n",
    "\n",
    "```python\n",
    "name = 'John Doe'\n",
    "\n",
    "if ____:\n",
    "    print('Name \"{}\" is more than 20 chars long'.format(name))\n",
    "    length_description = 'long'\n",
    "elif ____:\n",
    "    print('Name \"{}\" is more than 15 chars long'.format(name))\n",
    "    length_description = 'semi long'\n",
    "elif ____:\n",
    "    print('Name \"{}\" is more than 10 chars long'.format(name))\n",
    "    length_description = 'semi long'\n",
    "elif ____:\n",
    "    print('Name \"{}\" is 8, 9 or 10 chars long'.format(name))\n",
    "    length_description = 'semi short'\n",
    "else:\n",
    "    print('Name \"{}\" is a short name'.format(name))\n",
    "    length_description = 'short'\n",
    "    \n",
    ">>> assert length_description == 'semi short'    \n",
    "```"
   ]
  },
  {
   "cell_type": "code",
   "execution_count": 19,
   "metadata": {},
   "outputs": [
    {
     "name": "stdout",
     "output_type": "stream",
     "text": [
      "Name \"John Doe\" is 8, 9 or 10 chars long\n"
     ]
    }
   ],
   "source": [
    "name = 'John Doe'\n",
    "\n",
    "if len(name) > 20:\n",
    "    print('Name \"{}\" is more than 20 chars long'.format(name))\n",
    "    length_description = 'long'\n",
    "elif len(name) > 15:\n",
    "    print('Name \"{}\" is more than 15 chars long'.format(name))\n",
    "    length_description = 'semi long'\n",
    "elif len(name) > 10:\n",
    "    print('Name \"{}\" is more than 10 chars long'.format(name))\n",
    "    length_description = 'semi long'\n",
    "elif len(name) in [8, 9, 10]:\n",
    "    print('Name \"{}\" is 8, 9 or 10 chars long'.format(name))\n",
    "    length_description = 'semi short'\n",
    "else:\n",
    "    print('Name \"{}\" is a short name'.format(name))\n",
    "    length_description = 'short'\n",
    "\n",
    "assert length_description == 'semi short'    "
   ]
  },
  {
   "cell_type": "markdown",
   "metadata": {},
   "source": [
    "## Execise 8: Collections"
   ]
  },
  {
   "cell_type": "markdown",
   "metadata": {},
   "source": [
    "### NamedTuple\n"
   ]
  },
  {
   "cell_type": "markdown",
   "metadata": {},
   "source": [
    "#### Creating a namedtuple\n",
    "\n",
    "Create a namedtuple `Car` which has fields `price`, `mileage`, and `brand`. \n",
    "\n",
    "\n",
    "```python\n",
    ">>> car1 = Car(25000, 2000, 'BMW')\n",
    ">>> assert car1.price == 25000\n",
    ">>> assert car1.mileage == 2000\n",
    ">>> assert car1.brand == 'BMW'\n",
    ">>> assert isinstance(car1, tuple)\n",
    "\n",
    ">>> # Note that indexing works also!\n",
    ">>> # This means that if you change a tuple into a namedtuple,\n",
    ">>> # the change will be backwards compatible.\n",
    ">>> assert car1[2] == 'BMW'\n",
    "\n",
    ">>> print('All good!')\n",
    "```"
   ]
  },
  {
   "cell_type": "code",
   "execution_count": 20,
   "metadata": {},
   "outputs": [
    {
     "name": "stdout",
     "output_type": "stream",
     "text": [
      "All good!\n"
     ]
    }
   ],
   "source": [
    "from collections import namedtuple\n",
    "\n",
    "Car = namedtuple('Car', ['price', 'mileage', 'brand'])\n",
    "car1 = Car(25000, 2000, 'BMW')\n",
    "assert car1.price == 25000\n",
    "assert car1.mileage == 2000\n",
    "assert car1.brand == 'BMW'\n",
    "assert isinstance(car1, tuple)\n",
    "\n",
    "# Note that indexing works also!\n",
    "# This means that if you change a tuple into a namedtuple,\n",
    "# the change will be backwards compatible.\n",
    "assert car1[2] == 'BMW'\n",
    "\n",
    "print('All good!')"
   ]
  },
  {
   "cell_type": "markdown",
   "metadata": {},
   "source": [
    "### urllib\n",
    "\n",
    "#### example 1\n",
    "\n",
    "Below you can see `get_wiki_article` function which is a very simple implementation for fetching an article from wikipedia. Your task is to mock it's implementation such that it's going to always return `'Python is cool!'`. However, note that you should be able to check which argument is given to `urlopen` when `get_wiki_article` is called.\n",
    "\n",
    "**Note**: `get_content_of_url` uses [`urrlib`](https://docs.python.org/3/library/urllib.html#module-urllib), which is part of the Standard Library, for creating a HTTP request. Usually it's preferable to use [`requests`](http://docs.python-requests.org/en/master/) library (not part of the Standard Library) for such operations. Actually, `requests` uses `urllib` under the hood so it's good to know what's happening when you start using `requests` - or maybe you have already used it.\n",
    "\n",
    "\n",
    "```python\n",
    "from urllib.request import urlopen\n",
    "\n",
    "def get_wiki_article(name):\n",
    "    url = 'https://en.wikipedia.org/wiki/{}'.format(name)\n",
    "    response = urlopen(url)\n",
    "    content = str(response.read())\n",
    "    return content\n",
    "```\n",
    "\n",
    "```python\n",
    ">>> article = 'Python_(programming_language)'\n",
    ">>> res = get_wiki_article(article)\n",
    ">>> assert 'Guido van Rossum' not in res, 'Guido is still there!'\n",
    ">>> assert res == 'Python is cool!'\n",
    ">>> urlopen.assert_called_with('https://en.wikipedia.org/wiki/Python_(programming_language)')\n",
    "\n",
    ">>> print('All good!')\n",
    "```"
   ]
  },
  {
   "cell_type": "code",
   "execution_count": 1,
   "metadata": {},
   "outputs": [
    {
     "data": {
      "text/html": [
       "<link href='http://fonts.googleapis.com/css?family=Fenix' rel='stylesheet' type='text/css'>\n",
       "<link href='http://fonts.googleapis.com/css?family=Alegreya+Sans:100,300,400,500,700,800,900,100italic,300italic,400italic,500italic,700italic,800italic,900italic' rel='stylesheet' type='text/css'>\n",
       "<link href='http://fonts.googleapis.com/css?family=Source+Code+Pro:300,400' rel='stylesheet' type='text/css'>\n",
       "<style>\n",
       "    @font-face {\n",
       "        font-family: \"Computer Modern\";\n",
       "        src: url('http://mirrors.ctan.org/fonts/cm-unicode/fonts/otf/cmunss.otf');\n",
       "    }\n",
       "    div.cell{\n",
       "        width:600px;\n",
       "        margin-left:16% !important;\n",
       "        margin-right:auto;\n",
       "    }\n",
       "    h1 {\n",
       "        font-family: 'Alegreya Sans', sans-serif;\n",
       "    }\n",
       "    h2 {\n",
       "        font-family: 'Fenix', serif;\n",
       "    }\n",
       "    h3{\n",
       "\t\tfont-family: 'Fenix', serif;\n",
       "        margin-top:12px;\n",
       "        margin-bottom: 3px;\n",
       "       }\n",
       "\th4{\n",
       "\t\tfont-family: 'Fenix', serif;\n",
       "       }\n",
       "    h5 {\n",
       "        font-family: 'Alegreya Sans', sans-serif;\n",
       "    }\t   \n",
       "    div.text_cell_render{\n",
       "        font-family: 'Alegreya Sans',Computer Modern, \"Helvetica Neue\", Arial, Helvetica, Geneva, sans-serif;\n",
       "        line-height: 135%;\n",
       "        font-size: 120%;\n",
       "        width:600px;\n",
       "        margin-left:auto;\n",
       "        margin-right:auto;\n",
       "    }\n",
       "    .CodeMirror{\n",
       "            font-family: \"Source Code Pro\";\n",
       "\t\t\tfont-size: 90%;\n",
       "    }\n",
       "/*    .prompt{\n",
       "        display: None;\n",
       "    }*/\n",
       "    .text_cell_render h1 {\n",
       "        font-weight: 200;\n",
       "        font-size: 50pt;\n",
       "\t\tline-height: 100%;\n",
       "        color:#054BCD;\n",
       "        margin-bottom: 0.5em;\n",
       "        margin-top: 0.5em;\n",
       "        display: block;\n",
       "    }\t\n",
       "    .text_cell_render h5 {\n",
       "        font-weight: 300;\n",
       "        font-size: 16pt;\n",
       "        color: #054BCD;\n",
       "        font-style: italic;\n",
       "        margin-bottom: .5em;\n",
       "        margin-top: 0.5em;\n",
       "        display: block;\n",
       "    }\n",
       "    \n",
       "    .warning{\n",
       "        color: rgb( 240, 20, 20 )\n",
       "        }  \n",
       "</style>\n",
       "<script>\n",
       "    MathJax.Hub.Config({\n",
       "                        TeX: {\n",
       "                           extensions: [\"AMSmath.js\"]\n",
       "                           },\n",
       "                tex2jax: {\n",
       "                    inlineMath: [ ['$','$'], [\"\\\\(\",\"\\\\)\"] ],\n",
       "                    displayMath: [ ['$$','$$'], [\"\\\\[\",\"\\\\]\"] ]\n",
       "                },\n",
       "                displayAlign: 'center', // Change this to 'center' to center equations.\n",
       "                \"HTML-CSS\": {\n",
       "                    styles: {'.MathJax_Display': {\"margin\": 4}}\n",
       "                }\n",
       "        });\n",
       "</script>\n"
      ],
      "text/plain": [
       "<IPython.core.display.HTML object>"
      ]
     },
     "execution_count": 1,
     "metadata": {},
     "output_type": "execute_result"
    }
   ],
   "source": [
    "# css style\n",
    "from IPython.core.display import HTML\n",
    "def css_styling():\n",
    "    styles = open(\"../styles/custom.css\", \"r\").read()\n",
    "    return HTML(styles)\n",
    "css_styling()"
   ]
  }
 ],
 "metadata": {
  "hide_input": false,
  "kernelspec": {
   "display_name": "Python 3 (ipykernel)",
   "language": "python",
   "name": "python3"
  },
  "language_info": {
   "codemirror_mode": {
    "name": "ipython",
    "version": 3
   },
   "file_extension": ".py",
   "mimetype": "text/x-python",
   "name": "python",
   "nbconvert_exporter": "python",
   "pygments_lexer": "ipython3",
   "version": "3.8.10"
  }
 },
 "nbformat": 4,
 "nbformat_minor": 4
}
