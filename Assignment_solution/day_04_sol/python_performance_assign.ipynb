{
 "cells": [
  {
   "cell_type": "markdown",
   "id": "838c6cdd",
   "metadata": {},
   "source": [
    "<h1 align=\"center\">Python performance exercises</h1>"
   ]
  },
  {
   "cell_type": "markdown",
   "id": "ecd2f686",
   "metadata": {},
   "source": [
    "## Python best practices exercises"
   ]
  },
  {
   "cell_type": "markdown",
   "id": "db057b73",
   "metadata": {},
   "source": [
    "### Exercise 1\n",
    "\n",
    "considering the following function for concatenating list strings with deliter."
   ]
  },
  {
   "cell_type": "code",
   "execution_count": 111,
   "id": "c2ee9647",
   "metadata": {},
   "outputs": [],
   "source": [
    "def ft_concatenate(l_strings, d):\n",
    "    \"\"\"concatenate list of strings into one string separated by delimeter\"\"\"\n",
    "    res = l_strings[0]\n",
    "    for e in l_strings[1:]:\n",
    "        res = res + d + e\n",
    "    return res"
   ]
  },
  {
   "cell_type": "markdown",
   "id": "027f06a7",
   "metadata": {},
   "source": [
    "- profile the function and identify the bottlenecks.\n",
    "- improve speed up of the function\n",
    "*Hint: you may need to look to the string functions in python documentation*"
   ]
  },
  {
   "cell_type": "code",
   "execution_count": 114,
   "id": "52428737",
   "metadata": {},
   "outputs": [],
   "source": [
    "def ft_concatenate_f(l_strings, d):\n",
    "    \"\"\"concatenate list of strings into one string separated by delimeter\"\"\"\n",
    "    return d.join(l_strings)"
   ]
  },
  {
   "cell_type": "code",
   "execution_count": 115,
   "id": "0c3a2da7",
   "metadata": {},
   "outputs": [
    {
     "name": "stdout",
     "output_type": "stream",
     "text": [
      "9.68 µs ± 287 ns per loop (mean ± std. dev. of 7 runs, 100000 loops each)\n",
      "1.01 µs ± 21.1 ns per loop (mean ± std. dev. of 7 runs, 1000000 loops each)\n"
     ]
    }
   ],
   "source": [
    "import random\n",
    "l_string = random.sample(range(100, 1000), 100)\n",
    "l_string = [str(e) for e in l_string]\n",
    "\n",
    "%timeit res = ft_concatenate(l_string, ', ')\n",
    "%timeit res = ft_concatenate_f(l_string, ', ')"
   ]
  },
  {
   "cell_type": "markdown",
   "id": "d2fca5fd",
   "metadata": {},
   "source": [
    "### Exercise 2\n",
    "\n",
    "In this exercise you will solve the following problem using two methods bruteforce mehode, and fast method.\n",
    "\n",
    "**Problem:** You are given a list of n integers, and your task is to calculate the number of distinct values in the list.\n",
    "\n",
    "**Example**\n",
    "- Input:\n",
    "5\n",
    "2 3 2 2 3\n",
    "\n",
    "- Output:\n",
    "2\n",
    "\n",
    "**Implement the following methodes:**\n",
    "\n",
    "1. **bruteforce mehode:** create an empty list and start adding items for the given list without adding the previous item add, at the end the result list will contain unique values, print lenght of the list and you are done. \n",
    "2. **fast method** think of using Set data structure.\n",
    "\n",
    "- time the two methods, what do you think?"
   ]
  },
  {
   "cell_type": "code",
   "execution_count": 1,
   "id": "fac0318f",
   "metadata": {},
   "outputs": [],
   "source": [
    "# bruteforce fast method\n",
    "def brute(l):\n",
    "    d = []\n",
    "    for e in l:\n",
    "        if e not in d:\n",
    "            d.append(e)\n",
    "    return len(d)"
   ]
  },
  {
   "cell_type": "code",
   "execution_count": 2,
   "id": "65be1c68",
   "metadata": {},
   "outputs": [],
   "source": [
    "def fast(l):\n",
    "    return len(set(l))"
   ]
  },
  {
   "cell_type": "code",
   "execution_count": 3,
   "id": "e48bd646",
   "metadata": {},
   "outputs": [
    {
     "name": "stdout",
     "output_type": "stream",
     "text": [
      "6.78 ms ± 169 µs per loop (mean ± std. dev. of 7 runs, 100 loops each)\n",
      "17.7 µs ± 825 ns per loop (mean ± std. dev. of 7 runs, 100000 loops each)\n"
     ]
    }
   ],
   "source": [
    "import random\n",
    "randomlist = random.sample(range(1, 3000), 1000)\n",
    "\n",
    "# time the two methods\n",
    "%timeit x = brute(randomlist)\n",
    "%timeit y = fast(randomlist)"
   ]
  },
  {
   "cell_type": "markdown",
   "id": "254f61bc",
   "metadata": {},
   "source": [
    "## Cython exercises"
   ]
  },
  {
   "cell_type": "markdown",
   "id": "d8e4d5ff",
   "metadata": {},
   "source": [
    "### Exercise 1"
   ]
  },
  {
   "cell_type": "markdown",
   "id": "643c14c4",
   "metadata": {},
   "source": [
    "1. load the cython extension."
   ]
  },
  {
   "cell_type": "code",
   "execution_count": 5,
   "id": "d7f7bde4",
   "metadata": {},
   "outputs": [],
   "source": [
    "%load_ext cython"
   ]
  },
  {
   "cell_type": "markdown",
   "id": "7c24fe51",
   "metadata": {},
   "source": [
    "2. Condidering the following polynome function:"
   ]
  },
  {
   "cell_type": "code",
   "execution_count": 9,
   "id": "9fe28b9c",
   "metadata": {},
   "outputs": [],
   "source": [
    "def poly(a,b):\n",
    "    return 10.5 * a + 3 * (b**2)"
   ]
  },
  {
   "cell_type": "markdown",
   "id": "735ecece",
   "metadata": {},
   "source": [
    "- Create an equivalent Cython function of `poly` with name `poly_cy` without any cython improvement, just make its cell a cython cell."
   ]
  },
  {
   "cell_type": "code",
   "execution_count": 10,
   "id": "910e8bb0",
   "metadata": {},
   "outputs": [],
   "source": [
    "%%cython\n",
    "def poly_cy(double a, double b):\n",
    "    return 10.5 * a + 3 * (b**2)"
   ]
  },
  {
   "cell_type": "markdown",
   "id": "90516103",
   "metadata": {},
   "source": [
    "\n"
   ]
  },
  {
   "cell_type": "markdown",
   "id": "c4ce927d",
   "metadata": {},
   "source": [
    "3. time the performance of Python and Cython version of the function, what is the factor of speed up here between the two verions."
   ]
  },
  {
   "cell_type": "code",
   "execution_count": 11,
   "id": "b46911bd",
   "metadata": {},
   "outputs": [
    {
     "name": "stdout",
     "output_type": "stream",
     "text": [
      "290 ns ± 11.8 ns per loop (mean ± std. dev. of 7 runs, 1000000 loops each)\n",
      "84.5 ns ± 1.03 ns per loop (mean ± std. dev. of 7 runs, 10000000 loops each)\n"
     ]
    }
   ],
   "source": [
    "%timeit poly(10, 2)\n",
    "%timeit poly_cy(10, 2)"
   ]
  },
  {
   "cell_type": "markdown",
   "id": "f8809c13",
   "metadata": {},
   "source": [
    "4. Now lets work on another examples using loop.\n",
    "    - rewrite the same function below fib that calculate fibonacci series using cython, but now try to add type for the variables used inside it, add a prefix `_cy` to your new cython function."
   ]
  },
  {
   "cell_type": "code",
   "execution_count": 14,
   "id": "b98d8670",
   "metadata": {},
   "outputs": [],
   "source": [
    "def fib(n):\n",
    "    a, b = 1, 1\n",
    "    for i in range(n):\n",
    "        a, b = a + b, a\n",
    "\n",
    "    return a"
   ]
  },
  {
   "cell_type": "code",
   "execution_count": 15,
   "id": "b73b3576",
   "metadata": {},
   "outputs": [],
   "source": [
    "%%cython\n",
    "def fib_cy(int n):\n",
    "    cdef int i, a, b\n",
    "    a, b = 1, 1\n",
    "    for i in range(n):\n",
    "        a, b = a + b, a\n",
    "    return a"
   ]
  },
  {
   "cell_type": "markdown",
   "id": "0578de3e",
   "metadata": {},
   "source": [
    "- time the two function for fibonacci series, with n = 20, what is the factor of speed now, What do you think?"
   ]
  },
  {
   "cell_type": "code",
   "execution_count": 19,
   "id": "de41e25e",
   "metadata": {},
   "outputs": [
    {
     "name": "stdout",
     "output_type": "stream",
     "text": [
      "994 ns ± 16.1 ns per loop (mean ± std. dev. of 7 runs, 1000000 loops each)\n",
      "50.6 ns ± 1.57 ns per loop (mean ± std. dev. of 7 runs, 10000000 loops each)\n"
     ]
    }
   ],
   "source": [
    "%timeit fib(20)\n",
    "%timeit fib_cy(20)"
   ]
  },
  {
   "cell_type": "markdown",
   "id": "194690ae",
   "metadata": {},
   "source": [
    "5. Recursive functions are functions that call themselves during their execution. Another interesting property of the Fibonacci series is that it can be written as a recursive function. That’s because each item depends on the values of other items (namely item n-1 and item n-2)\n",
    "\n",
    "- Rewrite the fib function using recursion. Is it faster than the non-recursive version? Does Cythonizing it give even more of an advantage? "
   ]
  },
  {
   "cell_type": "code",
   "execution_count": 20,
   "id": "4f1370e3",
   "metadata": {},
   "outputs": [],
   "source": [
    "def rec_fib(n):\n",
    "    if n <= 1: return n\n",
    "    return rec_fib(n -1) + rec_fib(n -2)"
   ]
  },
  {
   "cell_type": "code",
   "execution_count": 22,
   "id": "aaece583",
   "metadata": {},
   "outputs": [],
   "source": [
    "%%cython\n",
    "def rec_fib_cy(int n):\n",
    "    if n <= 1: return n\n",
    "    return rec_fib_cy(n -1) + rec_fib_cy(n -2)"
   ]
  },
  {
   "cell_type": "code",
   "execution_count": 23,
   "id": "917aed05",
   "metadata": {},
   "outputs": [
    {
     "name": "stdout",
     "output_type": "stream",
     "text": [
      "2.04 ms ± 151 µs per loop (mean ± std. dev. of 7 runs, 100 loops each)\n",
      "511 µs ± 12.4 µs per loop (mean ± std. dev. of 7 runs, 1000 loops each)\n"
     ]
    }
   ],
   "source": [
    "%timeit rec_fib(20)\n",
    "%timeit rec_fib_cy(20)"
   ]
  },
  {
   "cell_type": "markdown",
   "id": "8e06cbb5",
   "metadata": {},
   "source": [
    "### Exercise 2\n",
    "\n",
    "- Monte Carlo methods are a broad class of computational algorithms that rely on repeated random sampling to obtain numerical results. \n",
    "- One of the basic examples of getting started with the Monte Carlo algorithm is the estimation of Pi.\n",
    "\n",
    "**Estimation of Pi**\n",
    "\n",
    "- The idea is to simulate random (x, y) points in a 2-D plane with domain as a square of side 1 unit. \n",
    "- Imagine a circle inside the same domain with same diameter and inscribed into the square. \n",
    "- We then calculate the ratio of number points that lied inside the circle and total number of generated points. \n",
    "- Refer to the image below:\n",
    "\n",
    "![demo](../data/MonteCarloPlot.png)\n",
    "\n",
    "We know that area of the square is 1 unit sq while that of circle is $\\pi \\ast  (\\frac{1}{2})^{2} = \\frac{\\pi}{4}$. Now for a very large number of generated points,\n",
    "\n",
    "![demo](../data/MonteCarloCalc.png)\n",
    "\n",
    "\n",
    "## The Algorithm\n",
    "\n",
    "1. Initialize cile_points, square_points and interval to 0.\n",
    "2. Generate random point x.\n",
    "3. Generate random point y.\n",
    "4. Calculate d = x*x + y*y.\n",
    "5. If d <= 1, increment circle_points.\n",
    "6. Increment square_points.\n",
    "7. Increment interval.\n",
    "8. If increment < NO_OF_ITERATIONS, repeat from 2.\n",
    "9. Calculate pi = 4*(circle_points/square_points).\n",
    "10. Terminate."
   ]
  },
  {
   "cell_type": "markdown",
   "id": "329b9a8d",
   "metadata": {},
   "source": [
    "**Your mission:** time the function `monte_carlo_pi`, identify the bottlenecks and create a new version using cython functionality to speed up monte carlo simulation for PI, use 100,000 points and compare the speed up factor between python and cython, considering the following optimizations:\n",
    "- add type for variables used.\n",
    "- add type for the function\n",
    "- use c rand function instead of python rand function.\n",
    " \n",
    "*Hint: you can import function from C libraries using the following approach `from libc.<name of c library> cimport <library function name>`, replace the holders `<>` with the right identities for the current problem*"
   ]
  },
  {
   "cell_type": "code",
   "execution_count": 49,
   "id": "23f3e1a0",
   "metadata": {},
   "outputs": [],
   "source": [
    "def monte_carlo_pi(interval):\n",
    "    import random\n",
    "    import numpy as np\n",
    "    \n",
    "    random.seed(42)  \n",
    "    \n",
    "    circle_points= 0\n",
    "\n",
    "    # Total Random numbers generated= possible x \n",
    "    # values* possible y values \n",
    "    for i in range(interval**2): \n",
    "      \n",
    "        # Randomly generated x and y values from a \n",
    "        # uniform distribution \n",
    "        # Rannge of x and y values is -1 to 1 \n",
    "        \n",
    "        rand_x= random.uniform(-1, 1) \n",
    "        rand_y= random.uniform(-1, 1) \n",
    "      \n",
    "        # Distance between (x, y) from the origin \n",
    "        origin_dist= rand_x**2 + rand_y**2\n",
    "      \n",
    "        # Checking if (x, y) lies inside the circle \n",
    "        if origin_dist<= 1: \n",
    "            circle_points+= 1\n",
    "            \n",
    "    pi = 4* circle_points/ interval**2 \n",
    "            \n",
    "    return pi"
   ]
  },
  {
   "cell_type": "code",
   "execution_count": 97,
   "id": "26a8e948",
   "metadata": {},
   "outputs": [],
   "source": [
    "%%cython\n",
    "from libc.stdlib cimport rand, srand, RAND_MAX\n",
    "cpdef float monte_carlo_pi_cy(int interval):\n",
    "    \n",
    "    srand(42)  \n",
    "    cdef int i, circle_points= 0\n",
    "    cdef float rand_x, rand_y, pi, origin_dist\n",
    "    # Total Random numbers generated= possible x \n",
    "    # values* possible y values \n",
    "    for i in range(interval * interval): \n",
    "        rand_x= (rand()+1.0)/(RAND_MAX+2.0)\n",
    "        rand_y= (rand()+1.0)/(RAND_MAX+2.0)\n",
    "        # Distance between (x, y) from the origin \n",
    "        origin_dist = rand_x * rand_x + rand_y*rand_y\n",
    "        # Checking if (x, y) lies inside the circle \n",
    "        if origin_dist <= 1.0: \n",
    "            circle_points += 1\n",
    "    pi = 4 * circle_points / (interval*interval)\n",
    "    return pi"
   ]
  },
  {
   "cell_type": "code",
   "execution_count": 99,
   "id": "9b12e2bc",
   "metadata": {},
   "outputs": [
    {
     "name": "stdout",
     "output_type": "stream",
     "text": [
      "26.2 ms ± 2.19 ms per loop (mean ± std. dev. of 7 runs, 10 loops each)\n",
      "1.41 ms ± 38.3 µs per loop (mean ± std. dev. of 7 runs, 1000 loops each)\n"
     ]
    }
   ],
   "source": [
    "interval = 200\n",
    "%timeit pi1 = monte_carlo_pi(interval)\n",
    "%timeit pi2 = monte_carlo_pi_cy(interval)"
   ]
  },
  {
   "cell_type": "markdown",
   "id": "99c3e476",
   "metadata": {},
   "source": [
    "## Numba exercises"
   ]
  },
  {
   "cell_type": "markdown",
   "id": "f45dd2b5",
   "metadata": {},
   "source": [
    "### Exercise 1\n",
    "\n",
    "Previously we considered how to approximateby Monte Carlo.\n",
    "\n",
    "- Use the same idea here, but make the code efficient using Numba.\n",
    "- Compare speed with and without Numba when the sample size is large."
   ]
  },
  {
   "cell_type": "code",
   "execution_count": 103,
   "id": "1bfd5a21",
   "metadata": {},
   "outputs": [],
   "source": [
    "import random\n",
    "import timeit\n",
    "from numba import njit\n",
    "import quantecon as qe\n",
    "\n",
    "@njit(fastmath=True)\n",
    "def monte_carlo_pi(interval):\n",
    "    random.seed(42)  \n",
    "    \n",
    "    circle_points= 0\n",
    "\n",
    "    # Total Random numbers generated= possible x \n",
    "    # values* possible y values \n",
    "    for i in range(interval**2): \n",
    "      \n",
    "        # Randomly generated x and y values from a \n",
    "        # uniform distribution \n",
    "        # Rannge of x and y values is -1 to 1 \n",
    "        \n",
    "        rand_x= random.uniform(-1, 1) \n",
    "        rand_y= random.uniform(-1, 1) \n",
    "      \n",
    "        # Distance between (x, y) from the origin \n",
    "        origin_dist= rand_x**2 + rand_y**2\n",
    "      \n",
    "        # Checking if (x, y) lies inside the circle \n",
    "        if origin_dist<= 1: \n",
    "            circle_points+= 1\n",
    "            \n",
    "    pi = 4* circle_points/ interval**2 \n",
    "    print(\"Pi :\",pi)\n",
    "    return pi"
   ]
  },
  {
   "cell_type": "code",
   "execution_count": 104,
   "id": "ac284427",
   "metadata": {},
   "outputs": [],
   "source": [
    "interval = 2000"
   ]
  },
  {
   "cell_type": "code",
   "execution_count": 105,
   "id": "ad4a3a61",
   "metadata": {},
   "outputs": [
    {
     "name": "stdout",
     "output_type": "stream",
     "text": [
      "Pi : 3.141155\n",
      "Pi : 3.141155\n",
      "Pi : 3.141155\n",
      "Pi : 3.141155\n",
      "Pi : 3.141155\n",
      "Pi : 3.141155\n",
      "Pi : 3.141155\n",
      "Pi : 3.141155\n",
      "46.6 ms ± 4.97 ms per loop (mean ± std. dev. of 7 runs, 1 loop each)\n"
     ]
    }
   ],
   "source": [
    "%timeit pi = monte_carlo_pi(interval)"
   ]
  },
  {
   "cell_type": "code",
   "execution_count": 106,
   "id": "512a29cd",
   "metadata": {},
   "outputs": [
    {
     "name": "stdout",
     "output_type": "stream",
     "text": [
      "Pi : 3.142255\n",
      "Pi : 3.142255\n",
      "Pi : 3.142255\n",
      "Pi : 3.142255\n",
      "Pi : 3.142255\n",
      "Pi : 3.142255\n",
      "Pi : 3.142255\n",
      "Pi : 3.142255\n",
      "2.65 s ± 48 ms per loop (mean ± std. dev. of 7 runs, 1 loop each)\n"
     ]
    }
   ],
   "source": [
    "%timeit pi = monte_carlo_pi.py_func(interval)"
   ]
  },
  {
   "cell_type": "markdown",
   "id": "52619de9",
   "metadata": {},
   "source": [
    "### Exercise 2\n",
    "\n",
    "In the [Introduction to Quantitative Economics](https://python.quantecon.org/intro.html) with Python lecture series you can learn all about finite-state Markov chains.\n",
    "\n",
    "For now, let's just concentrate on simulating a very simple example of such a chain.\n",
    "\n",
    "Suppose that the volatility of returns on an asset can be in one of two regimes — high or low.\n",
    "\n",
    "The transition probabilities across states are as follows ![markov](../data/markov.png)\n",
    "\n",
    "For example, let the period length be one day, and suppose the current state is high.\n",
    "\n",
    "We see from the graph that the state tomorrow will be\n",
    "\n",
    "- high with probability 0.8\n",
    "\n",
    "- low with probability 0.2\n",
    "\n",
    "Your task is to simulate a sequence of daily volatility states according to this rule.\n",
    "\n",
    "Set the length of the sequence to `n = 1_000_000` and start in the high state.\n",
    "\n",
    "Implement a pure Python version and a Numba version, and compare speeds.\n",
    "\n",
    "To test your code, evaluate the fraction of time that the chain spends in the low state.\n",
    "\n",
    "If your code is correct, it should be about 2/3.\n",
    "\n",
    "Hints:\n",
    "\n",
    "- Represent the low state as 0 and the high state as 1.\n",
    "\n",
    "- If you want to store integers in a NumPy array and then apply JIT compilation, use `x = np.empty(n, dtype=np.int_)`.\n"
   ]
  },
  {
   "cell_type": "code",
   "execution_count": 26,
   "id": "8a5550df",
   "metadata": {},
   "outputs": [],
   "source": [
    "p, q = 0.1, 0.2  # Prob of leaving low and high state respectively"
   ]
  },
  {
   "cell_type": "code",
   "execution_count": 41,
   "id": "a50fb958",
   "metadata": {},
   "outputs": [],
   "source": [
    "@njit\n",
    "def compute_series(n):\n",
    "    random.seed(42)  \n",
    "    \n",
    "    x = np.empty(n, dtype=np.int_)\n",
    "    \n",
    "    x[0] = 1  # Start in state 1\n",
    "    U = np.random.uniform(0, 1, size=n)\n",
    "    \n",
    "    for t in range(1, n):\n",
    "        current_x = x[t-1]\n",
    "        if current_x == 0:\n",
    "            x[t] = U[t] < p\n",
    "        else:\n",
    "            x[t] = U[t] > q\n",
    "    return x"
   ]
  },
  {
   "cell_type": "code",
   "execution_count": 42,
   "id": "0c91a3e4",
   "metadata": {},
   "outputs": [
    {
     "name": "stdout",
     "output_type": "stream",
     "text": [
      "0.665914\n"
     ]
    }
   ],
   "source": [
    "n = 1_000_000\n",
    "x = compute_series(n)\n",
    "print(np.mean(x == 0))  # Fraction of time x is in state 0"
   ]
  },
  {
   "cell_type": "code",
   "execution_count": 45,
   "id": "7880739b",
   "metadata": {},
   "outputs": [
    {
     "name": "stdout",
     "output_type": "stream",
     "text": [
      "6.42 ms ± 130 µs per loop (mean ± std. dev. of 7 runs, 100 loops each)\n"
     ]
    }
   ],
   "source": [
    "%timeit compute_series(n)"
   ]
  },
  {
   "cell_type": "code",
   "execution_count": 46,
   "id": "027a35a1",
   "metadata": {},
   "outputs": [
    {
     "name": "stdout",
     "output_type": "stream",
     "text": [
      "493 ms ± 11.2 ms per loop (mean ± std. dev. of 7 runs, 1 loop each)\n"
     ]
    }
   ],
   "source": [
    "%timeit compute_series.py_func(n)"
   ]
  }
 ],
 "metadata": {
  "hide_input": false,
  "kernelspec": {
   "display_name": "Python 3 (ipykernel)",
   "language": "python",
   "name": "python3"
  },
  "language_info": {
   "codemirror_mode": {
    "name": "ipython",
    "version": 3
   },
   "file_extension": ".py",
   "mimetype": "text/x-python",
   "name": "python",
   "nbconvert_exporter": "python",
   "pygments_lexer": "ipython3",
   "version": "3.8.10"
  }
 },
 "nbformat": 4,
 "nbformat_minor": 5
}
