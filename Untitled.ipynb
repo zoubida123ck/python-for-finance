{
 "cells": [
  {
   "cell_type": "code",
   "execution_count": null,
   "id": "1bff80a2",
   "metadata": {},
   "outputs": [],
   "source": [
    "import numpy as np \n",
    "#Function to integrate :  Cosinus \n",
    "def f(x):\n",
    "    return np.cos(x)\n",
    "\n",
    "# Implementing trapezoidal method\n",
    "def trapezoidal_method(xmin,xmax,nbi):\n",
    "    # computing the step size\n",
    "    h = (xmax-xmin) / nbi #compute the interval betwen min and max, then divide by the number \n",
    "    # Finding sum \n",
    "    summation= 0.5*(f(xmin)+f(xmax)) #this is the fixed term in the equation to which we will add other terms ranging from 1 to n-1\n",
    "    for i in range(1,nbi): \n",
    "        summation += f(xmin+i*h) #this is used because x1 can be implemented as a+h, since the step size is constant  \n",
    "    # The integral value \n",
    "    integral = h*summation\n",
    "    return integral\n",
    "    \n",
    "xmin = 0\n",
    "xmax = 3*np.pi/2\n",
    "nbx = 20\n",
    "nbi=nbx-1\n",
    "trapezoidal_method(xmin,xmax,nbi)"
   ]
  },
  {
   "cell_type": "code",
   "execution_count": null,
   "id": "ca434604",
   "metadata": {},
   "outputs": [],
   "source": [
    "import matplotlib.pyplot as plt \n",
    "from matplotlib.patches import Polygon \n",
    "import matplotlib\n",
    "from matplotlib.collection import PatchCollection\n",
    "%matplotlib inline\n",
    "#the cosinus function\n",
    "x=np.linspace(xmin, xmax, 100)\n",
    "plt.plot(x, f(x))\n",
    "plt.grid(True)\n",
    "\n",
    "#the trapezoid method \n",
    "p,point = trapezoidal_method(xmin, xmax,nbi)\n",
    "ax=plt.gca()\n",
    "ax.add_collection(p)"
   ]
  },
  {
   "cell_type": "code",
   "execution_count": null,
   "id": "3245f30f",
   "metadata": {},
   "outputs": [],
   "source": [
    "#Check if the real value of the integral is equal to the one of the trapezoidal method\n",
    "from scipy.integrale import quad \n",
    "integrate = quad(f,xmin, xmax)\n",
    "integrate"
   ]
  },
  {
   "cell_type": "code",
   "execution_count": null,
   "id": "57d30e0a",
   "metadata": {},
   "outputs": [],
   "source": [
    "# Input section\n",
    "lower_limit = float(input(\"Enter lower limit of integration: \"))\n",
    "upper_limit = float(input(\"Enter upper limit of integration: \"))\n",
    "sub_interval = int(input(\"Enter number of sub intervals: \"))\n",
    "\n",
    "# Call trapezoidal() method and get result\n",
    "result = trapezoidal(lower_limit, upper_limit, sub_interval)\n",
    "print(\"Integration by  the Trapezoidal method is: %0.6f\" % (result) )\n",
    "\n"
   ]
  },
  {
   "cell_type": "markdown",
   "id": "603f3892",
   "metadata": {},
   "source": [
    "non linear convection "
   ]
  },
  {
   "cell_type": "code",
   "execution_count": null,
   "id": "a68bdefb",
   "metadata": {},
   "outputs": [],
   "source": [
    "import numpy as np\n",
    "import matplotlib.pyplot as plt\n",
    "import time\n",
    "from numba import njit\n",
    "\n",
    "@njit(fastmath=True)\n",
    "def solve_1d_nonlinearconv(u, un, nt, nx, dt, dx, c):\n",
    "    for n in range(nt):  \n",
    "        for i in range(nx): un[i] = u[i]\n",
    "        for i in range(1, nx): \n",
    "            u[i] = un[i] - c * dt / dx * (un[i] - un[i-1])\n",
    "    return 0\n",
    "solve_1d_linearconv(u, un, nt, nx, dt, dx, c)\n",
    "nx = 301  # try changing this number from 41 to 81 and Run All ... what happens?\n",
    "dx = 2 / (nx-1)\n",
    "nt = 100    #nt is the number of timesteps we want to calculate\n",
    "c = 2      #assume wavespeed of c = 1\n",
    "dt = 0.004\n",
    "grid = np.linspace(0,2,nx) # creating the space grid    \n",
    "\n",
    "u0 = np.ones(nx)      #numpy function ones()\n",
    "u0[int(.5 / dx):int(1 / dx + 1)] = 2  #setting u = 2 between 0.5 and 1 as per our I.C.s\n",
    "plt.plot(grid,u0)\n",
    "u = u0.copy()\n",
    "un = np.ones(nx)\n",
    "\n",
    "\n",
    "cfl = c*dt/dx\n",
    "print(cfl)"
   ]
  }
 ],
 "metadata": {
  "kernelspec": {
   "display_name": "Python 3 (ipykernel)",
   "language": "python",
   "name": "python3"
  },
  "language_info": {
   "codemirror_mode": {
    "name": "ipython",
    "version": 3
   },
   "file_extension": ".py",
   "mimetype": "text/x-python",
   "name": "python",
   "nbconvert_exporter": "python",
   "pygments_lexer": "ipython3",
   "version": "3.8.5"
  }
 },
 "nbformat": 4,
 "nbformat_minor": 5
}
