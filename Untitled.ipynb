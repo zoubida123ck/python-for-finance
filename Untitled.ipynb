{
 "cells": [
  {
   "cell_type": "code",
   "execution_count": null,
   "id": "1bff80a2",
   "metadata": {},
   "outputs": [],
   "source": []
  },
  {
   "cell_type": "code",
   "execution_count": null,
   "id": "ca434604",
   "metadata": {},
   "outputs": [],
   "source": [
    "import matplotlib.pyplot as plt \n",
    "from matplotlib.patches import Polygon \n",
    "import matplotlib\n",
    "from matplotlib.collection import PatchCollection\n",
    "%matplotlib inline\n",
    "#the cosinus function\n",
    "x=np.linspace(xmin, xmax, 100)\n",
    "plt.plot(x, f(x))\n",
    "plt.grid(True)\n",
    "\n",
    "#the trapezoid method \n",
    "p,point = trapezoidal_method(xmin, xmax,nbi)\n",
    "ax=plt.gca()\n",
    "ax.add_collection(p)"
   ]
  },
  {
   "cell_type": "code",
   "execution_count": null,
   "id": "3245f30f",
   "metadata": {},
   "outputs": [],
   "source": [
    "#Check if the real value of the integral is equal to the one of the trapezoidal method\n",
    "from scipy.integrale import quad \n",
    "integrate = quad(f,xmin, xmax)\n",
    "integrate"
   ]
  },
  {
   "cell_type": "code",
   "execution_count": null,
   "id": "57d30e0a",
   "metadata": {},
   "outputs": [],
   "source": [
    "\n",
    "\n",
    "for n in range(nt): # loop for time iteration\n",
    "    un = u.copy() # copy the existing values of u into un\n",
    "    for i in range(1,nx): # looping through the grid\n",
    "        u[i] = un[i]-c*dt/dx*(un[i]-un[i-1]) # the scheme\n",
    "    #pl.figure(figsize = (11,7), dpi = 100)\n",
    "    pl.plot(grid,u) # this will plot u for every time step"
   ]
  },
  {
   "cell_type": "markdown",
   "id": "603f3892",
   "metadata": {},
   "source": [
    "non linear convection "
   ]
  },
  {
   "cell_type": "code",
   "execution_count": null,
   "id": "a68bdefb",
   "metadata": {},
   "outputs": [],
   "source": [
    "import numpy as np\n",
    "import matplotlib.pyplot as plt\n",
    "import time\n",
    "from numba import njit\n",
    "\n"
   ]
  }
 ],
 "metadata": {
  "kernelspec": {
   "display_name": "Python 3 (ipykernel)",
   "language": "python",
   "name": "python3"
  },
  "language_info": {
   "codemirror_mode": {
    "name": "ipython",
    "version": 3
   },
   "file_extension": ".py",
   "mimetype": "text/x-python",
   "name": "python",
   "nbconvert_exporter": "python",
   "pygments_lexer": "ipython3",
   "version": "3.8.5"
  }
 },
 "nbformat": 4,
 "nbformat_minor": 5
}
