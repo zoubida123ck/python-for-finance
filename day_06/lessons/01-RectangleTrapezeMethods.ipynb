{
 "cells": [
  {
   "cell_type": "markdown",
   "metadata": {},
   "source": [
    "### Understanding the rectangle  and trapezoidal method\n"
   ]
  },
  {
   "cell_type": "markdown",
   "metadata": {},
   "source": [
    "## 1. Rectangle method\n",
    "\n",
    "In this method, we calculate the numerical integral by performing a sum of areas of rectangles. \n",
    "The integration domain is split into intervals and we act as if the function remains constant over each interval.\n",
    "- Area of rectangle ABCD\n",
    "![rectangle](../data/Rectangle_area.png)\n",
    "- On each interval, we thus carry out the following approximation:\n",
    "$ \\int_{a}^{b} f(x) dx \\approx (b-a)f(\\alpha) $\n",
    "\n",
    "where $\\alpha$ is an abscisse belonging to the interval limited by $a$ and $b$.\n",
    "\n",
    "We will limit ourselves here to the cases where $\\alpha = a$ or $b$, which means that for each interval we consider as constant the value taken by the function at the left or right end of the interval.\n",
    "\n",
    "As an example, we will perform an integration program for $\\alpha = a$ and we will visualize the rectangles.\n",
    "\n",
    "To draw a rectangle ABCD (see figure below), simply make a plot with the coordinates of A, B, C, D and A. We end with A to close the plot.\n",
    "\n",
    "![demo](../data/Rectangle.png)"
   ]
  },
  {
   "cell_type": "code",
   "execution_count": 67,
   "metadata": {},
   "outputs": [],
   "source": [
    "import numpy as np\n",
    "import matplotlib.pyplot as plt\n",
    "\n",
    "def compute_integral_rectangle(x, y, nbi):\n",
    "    \n",
    "    integral =0.\n",
    "    for i in range(nbi):\n",
    "        integral = integral + y[i]*(x[i+1]-x[i])\n",
    "        \n",
    "    return integral\n",
    "\n",
    "def plot_integral(x, y, nbi):\n",
    "  \n",
    "    for i in range(nbi):\n",
    "        # drawing the rectangle\n",
    "        x_rect = [x[i], x[i], x[i+1], x[i+1], x[i]] # abscisses des sommets\n",
    "        y_rect = [0   , y[i], y[i]  , 0     , 0   ] # ordonnees des sommets\n",
    "        plt.plot(x_rect, y_rect,\"r\")"
   ]
  },
  {
   "cell_type": "code",
   "execution_count": 70,
   "metadata": {},
   "outputs": [
    {
     "name": "stdout",
     "output_type": "stream",
     "text": [
      "integrale = -0.9976395926985904\n"
     ]
    },
    {
     "data": {
      "image/png": "[encoded data removed]",
      "text/plain": [
       "<Figure size 432x288 with 1 Axes>"
      ]
     },
     "metadata": {
      "needs_background": "light"
     },
     "output_type": "display_data"
    },
    {
     "name": "stdout",
     "output_type": "stream",
     "text": [
      "CPU times: user 210 ms, sys: 0 ns, total: 210 ms\n",
      "Wall time: 211 ms\n"
     ]
    }
   ],
   "source": [
    "%%time\n",
    "\n",
    "xmin = 0\n",
    "xmax = 3*np.pi/2\n",
    "nbx = 100\n",
    "nbi = nbx - 1 # nombre d'intervalles\n",
    "\n",
    "x = np.linspace(xmin, xmax, nbx)\n",
    "y = np.cos(x)\n",
    "\n",
    "plt.plot(x,y,\"bo-\")\n",
    "\n",
    "integral = compute_integral_rectangle(x, y, nbi)\n",
    "\n",
    "plot_integral(x, y, nbi)   \n",
    "\n",
    "print(\"integrale =\", integrale)\n",
    "\n",
    "plt.show()"
   ]
  },
  {
   "cell_type": "markdown",
   "metadata": {},
   "source": [
    "## 2. Trapezoidal method\n",
    "\n",
    "As the name suggests, this integration method uses a sum of trapezoidal areas.\n",
    "\n",
    "$\\textbf{Key idea}$: By using trapezoids we can get more accurate approximations than by using rectangles.\n",
    "- area of a Trapezoid\n",
    "\n",
    "![surface](../data/Surface.png)\n",
    "\n",
    "- On each interval, we then perform the following approximation:\n",
    "$ \\int_{a}^{b} f(x) dx \\approx \\frac{b-a}{2} [f(a) + f(b)] $\n",
    "![demo](../data/Trapeze.png)\n",
    "\n"
   ]
  }
 ],
 "metadata": {
  "hide_input": false,
  "kernelspec": {
   "display_name": "Python 3",
   "language": "python",
   "name": "python3"
  },
  "language_info": {
   "codemirror_mode": {
    "name": "ipython",
    "version": 3
   },
   "file_extension": ".py",
   "mimetype": "text/x-python",
   "name": "python",
   "nbconvert_exporter": "python",
   "pygments_lexer": "ipython3",
   "version": "3.8.5"
  }
 },
 "nbformat": 4,
 "nbformat_minor": 4
}
