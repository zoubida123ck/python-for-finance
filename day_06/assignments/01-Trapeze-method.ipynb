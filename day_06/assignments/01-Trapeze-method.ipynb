{
 "cells": [
  {
   "cell_type": "markdown",
   "metadata": {},
   "source": [
    "# Exercices"
   ]
  },
  {
   "cell_type": "code",
   "execution_count": 3,
   "metadata": {},
   "outputs": [],
   "source": [
    "import numpy as np\n",
    "\n",
    "def compute_integrale_trapeze(x, y, nbi):\n",
    "   \n",
    "    return integrale\n",
    "\n",
    "def plot_integrale(x, y, nbi):\n",
    "   \n",
    "    return 0"
   ]
  },
  {
   "cell_type": "code",
   "execution_count": 4,
   "metadata": {},
   "outputs": [],
   "source": [
    "xmin = 0\n",
    "xmax = 3*np.pi/2\n",
    "nbx = 20\n",
    "nbi = nbx - 1 # nombre d'intervalles"
   ]
  },
  {
   "cell_type": "markdown",
   "metadata": {},
   "source": [
    "- Consider function cosinus\n",
    "- Write the function compute_integrale_trapeze to compute the integral as described on the lesson\n",
    "- Write the function plot_integrale to plot the integral\n",
    "- Plot both cosinus function and its integral\n",
    "- The result must be as the figure bellow \n",
    "\n",
    "![demo](../data/trapeze.png)\n"
   ]
  }
 ],
 "metadata": {
  "hide_input": false,
  "kernelspec": {
   "display_name": "Python 3",
   "language": "python",
   "name": "python3"
  },
  "language_info": {
   "codemirror_mode": {
    "name": "ipython",
    "version": 3
   },
   "file_extension": ".py",
   "mimetype": "text/x-python",
   "name": "python",
   "nbconvert_exporter": "python",
   "pygments_lexer": "ipython3",
   "version": "3.8.5"
  }
 },
 "nbformat": 4,
 "nbformat_minor": 4
}
