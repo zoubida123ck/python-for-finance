{
 "cells": [
  {
   "cell_type": "markdown",
   "metadata": {},
   "source": [
    "# Introduction to Machine Learning: Supervised, Unsupervised"
   ]
  },
  {
   "cell_type": "markdown",
   "metadata": {},
   "source": [
    "## What is Machine Learning?\n",
    "\n",
    " \n",
    "- Machine Learning is the science of making computers learn and act like humans by feeding data and information without being explicitly programmed.\n",
    "\n",
    "- Machine learning algorithms are trained with training data. When new data comes in, they can make predictions and decisions accurately based on past data. \n",
    "\n",
    "- For example, whenever you ask Siri to do something, a powerful speech recognition converts the audio into its corresponding textual form. This is sent to the Apple servers for further processing where language processing algorithms are run to understand the user's intent. Then finally, Siri tells you the answer. \n",
    "\n",
    "![siri](../data/siri.png)\n",
    "\n",
    "![siri](../data/ML.png)"
   ]
  },
  {
   "cell_type": "markdown",
   "metadata": {},
   "source": [
    "## There are two types of machine learning:\n",
    "\n",
    "- Supervised Learning\n",
    "- Unsupervised Learning\n"
   ]
  },
  {
   "cell_type": "markdown",
   "metadata": {},
   "source": [
    "## What is Supervised Learning?\n",
    "\n",
    "In Supervised Learning, the machine learns under supervision. It contains a model that is able to predict with the help of a labeled dataset. A labeled dataset is one where you already know the target answer. \n",
    "\n",
    "![SL](../data/supervised-learning.webp)\n",
    "\n",
    "**Supervised Learning**\n",
    "\n",
    "In this case, we have images that are labeled a spoon or a knife. This known data is fed to the machine, which analyzes and learns the association of these images based on its features such as shape, size, sharpness, etc. Now when a new image is fed to the machine without any label, the machine is able to predict accurately that it is a spoon with the help of the past data.\n",
    "\n",
    "***Supervised learning can be further divided into two types:***\n",
    "\n",
    "\n",
    "- Classification\n",
    "- Regression\n"
   ]
  },
  {
   "cell_type": "markdown",
   "metadata": {},
   "source": [
    "### 1. Classification - Supervised Learning\n",
    "\n",
    "- Classification is used when the output variable is categorical i.e. with 2 or more classes. For example, yes or no, male or female, true or false, etc.\n",
    "\n",
    "![CL](../data/classification-type-of-supervised-learning.webp)\n",
    "\n",
    "- In order to predict whether a mail is spam or not, we need to first teach the machine what a spam mail is. This is done based on a lot of spam filters - reviewing the content of the mail, reviewing the mail header, and then searching if it contains any false information. Certain keywords and blacklist filters that blackmails are used from already blacklisted spammers.\n",
    "\n",
    "\n",
    "- All of these features are used to score the mail and give it a spam score. The lower the total spam score of the email, the more likely that it is not a scam.\n",
    "\n",
    "\n",
    "- Based on the content, label, and the spam score of the new incoming mail, the algorithm decides whether it should land in the inbox or spam folder."
   ]
  },
  {
   "cell_type": "markdown",
   "metadata": {},
   "source": [
    "### 2. Regression - Supervised Learning \n",
    "\n",
    "- Regression is used when the output variable is a real or continuous value. In this case, there is a relationship between two or more variables i.e., a change in one variable is associated with a change in the other variable. For example, salary based on work experience or weight based on height, etc.\n",
    "\n",
    "![RSL](../data/regression-type-of-supervised-learning.webp)\n",
    "\n",
    "- Let’s consider two variables - humidity and temperature. Here, ‘temperature’ is the independent variable and ‘humidity' is the dependent variable. If the temperature increases, then the humidity decreases. \n",
    "\n",
    "\n",
    "- These two variables are fed to the model and the machine learns the relationship between them. After the machine is trained, it can easily predict the humidity based on the given temperature. "
   ]
  },
  {
   "cell_type": "markdown",
   "metadata": {},
   "source": [
    "### Real-Life Applications of Supervised Learning\n",
    "\n",
    "- Risk Assessment\n",
    "    - Supervised learning is used to assess the risk in financial services or insurance domains in order to minimize the risk portfolio of the companies. \n",
    "\n",
    "\n",
    "- Image Classification\n",
    "    - Image classification is one of the key use cases of demonstrating supervised machine learning. For example, Facebook can recognize your friend in a picture from an album of tagged photos. \n",
    "\n",
    "\n",
    "- Fraud Detection\n",
    "    - To identify whether the transactions made by the user are authentic or not. \n",
    "\n",
    "\n",
    "- Visual Recognition\n",
    "    - The ability of a machine learning model to identify objects, places, people, actions, and images."
   ]
  },
  {
   "cell_type": "markdown",
   "metadata": {},
   "source": [
    "## What is Unsupervised Learning?\n",
    "\n",
    "In Unsupervised Learning, the machine uses unlabeled data and learns on itself without any supervision. The machine tries to find a pattern in the unlabeled data and gives a response.\n",
    "\n",
    "![UnSupL](../data/unsupervised-machine-learning.webp)\n",
    "\n",
    "**Unsupervised Machine Learning**\n",
    "\n",
    "Let's take a similar example is before, but this time we do not tell the machine whether it's a spoon or a knife. The machine identifies patterns from the given set and groups them based on their patterns, similarities, etc.\n",
    "\n",
    "Unsupervised learning can be further grouped into types:\n",
    "\n",
    "- Clustering\n",
    "- Association"
   ]
  },
  {
   "cell_type": "markdown",
   "metadata": {},
   "source": [
    "### 1. Clustering - Unsupervised Learning\n",
    "\n",
    "- Clustering is the method of dividing the objects into clusters that are similar between them and are dissimilar to the objects belonging to another cluster. For example, finding out which customers made similar product purchases.\n",
    "\n",
    "![Clustering](../data/clustering-under-unsupervised-machine-learning.webp)\n",
    "\n",
    "- Suppose a telecom company wants to reduce its customer churn rate by providing personalized call and data plans. The behavior of the customers is studied and the model segments the customers with similar traits. Several strategies are adopted to minimize churn rate and maximize profit through suitable promotions and campaigns.\n",
    "\n",
    "\n",
    "- On the right side of the image, you can see a graph where customers are grouped. Group A customers use more data and also have high call durations. Group B customers are heavy Internet users, while Group C customers have high call duration. So, Group B will be given more data benefit plants, while Group C will be given cheaper called call rate plans and group A will be given the benefit of both.\n",
    "\n"
   ]
  },
  {
   "cell_type": "markdown",
   "metadata": {},
   "source": [
    "### 2. Association - Unsupervised Learning\n",
    "\n",
    "- Association is a rule-based machine learning to discover the probability of the co-occurrence of items in a collection. For example, finding out which products were purchased together.\n",
    "\n",
    "![Association](../data/association-under-unsupervised-learning.webp)\n",
    "\n",
    "- Let’s say that a customer goes to a supermarket and buys bread, milk, fruits, and wheat. Another customer comes and buys bread, milk, rice, and butter. Now, when another customer comes, it is highly likely that if he buys bread, he will buy milk too. Hence, a relationship is established based on customer behavior and recommendations are made. "
   ]
  },
  {
   "cell_type": "markdown",
   "metadata": {},
   "source": [
    "### Real-Life Applications of Unsupervised Learning\n",
    "\n",
    "- Market Basket Analysis\n",
    "    - It is a machine learning model based on the algorithm that if you buy a certain group of items, you are less or more likely to buy another group of items.\n",
    "\n",
    "\n",
    "- Semantic Clustering\n",
    "    - Semantically similar words share a similar context. People post their queries on websites in their own ways. Semantic clustering groups all these responses with the same meaning in a cluster to ensure that the customer finds the information they want quickly and easily. It plays an important role in information retrieval, good browsing experience, and comprehension.\n",
    "\n",
    "\n",
    "- Delivery Store Optimization\n",
    "    - Machine learning models are used to predict the demand and keep up with supply. They are also used to open stores where the demand is higher and optimizing roots for more efficient deliveries according to past data and behavior.\n",
    "\n",
    "\n",
    "- Identifying Accident Prone Areas\n",
    "    - Unsupervised machine learning models can be used to identify accident-prone areas and introduce safety measures based on the intensity of those accidents."
   ]
  },
  {
   "cell_type": "markdown",
   "metadata": {},
   "source": [
    "### Difference Between Supervised and Unsupervised Learning\n",
    "\n",
    "![diff](../data/SupvsUnsup-table.png)\n"
   ]
  }
 ],
 "metadata": {
  "hide_input": false,
  "kernelspec": {
   "display_name": "Python 3",
   "language": "python",
   "name": "python3"
  },
  "language_info": {
   "codemirror_mode": {
    "name": "ipython",
    "version": 3
   },
   "file_extension": ".py",
   "mimetype": "text/x-python",
   "name": "python",
   "nbconvert_exporter": "python",
   "pygments_lexer": "ipython3",
   "version": "3.8.5"
  }
 },
 "nbformat": 4,
 "nbformat_minor": 4
}
