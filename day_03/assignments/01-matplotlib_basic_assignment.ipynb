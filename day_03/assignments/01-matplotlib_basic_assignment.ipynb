{
 "cells": [
  {
   "cell_type": "markdown",
   "metadata": {},
   "source": [
    "# Matplotlib exercices"
   ]
  },
  {
   "cell_type": "markdown",
   "metadata": {},
   "source": [
    "In this exercise, we are using Pandas and Matplotlib to visualize Company Sales Data. The data is located under the folder `../data/company_sales_data.csv`.\n",
    "\n",
    "![company_sales_data](../data/company_sales_data.webp)"
   ]
  },
  {
   "cell_type": "markdown",
   "metadata": {},
   "source": [
    "## Exercise 1\n",
    "**Read Total profit of all months and show it using a line plot**\n",
    "\n",
    "Total profit data provided for each month. Generated line plot must include the following properties:\n",
    "- X label name = Month Number\n",
    "- Y label name = Total profit\n",
    "The line plot graph should look like this.\n",
    "\n",
    "**Expected output**\n",
    "\n",
    "<img src=\"../data/Company_profit_per_month.png\" alt=\"Company_profit_per_month\" style=\"width: 500px;\"/>\n"
   ]
  },
  {
   "cell_type": "code",
   "execution_count": 1,
   "metadata": {},
   "outputs": [],
   "source": [
    "# Write your code here"
   ]
  },
  {
   "cell_type": "markdown",
   "metadata": {},
   "source": [
    "## Exercise 2\n",
    "**Get total profit of all months and show line plot with the following Style properties**\n",
    "- Line Style dotted and Line-color should be red\n",
    "- Show legend at the lower right location.\n",
    "- X label name = Month Number\n",
    "- Y label name = Sold units number\n",
    "- Add a circle marker.\n",
    "- Line marker color as read\n",
    "- Line width should be 3\n",
    "\n",
    "**Expected output**\n",
    "\n",
    "<img src=\"../data/company_sales_data_of_last_year.png\" alt=\"company_sales_data_of_last_year\" style=\"width: 700px;\"/>\n"
   ]
  },
  {
   "cell_type": "code",
   "execution_count": 1,
   "metadata": {},
   "outputs": [],
   "source": [
    "# write your code here"
   ]
  },
  {
   "cell_type": "markdown",
   "metadata": {},
   "source": [
    "## Exercise 3\n",
    "**Read all product sales data and show it  using a multiline plot**\n",
    "Display the number of units sold per month for each product using multiline plots. (i.e., Separate Plotline for each product ).\n",
    "**Expected output**\n",
    "\n",
    "<img src=\"../data/sales_data.png\" alt=\"sales_data\" style=\"width: 500px;\"/>\n"
   ]
  },
  {
   "cell_type": "code",
   "execution_count": 19,
   "metadata": {
    "scrolled": true
   },
   "outputs": [],
   "source": [
    "# write your code here"
   ]
  },
  {
   "cell_type": "markdown",
   "metadata": {},
   "source": [
    "## Exercise 4\n",
    "**Read toothpaste sales data of each month and show it using a scatter plot**\n",
    "Also, add a grid in the plot. gridline style should “–“.\n",
    "\n",
    "**Expected output**\n",
    "\n",
    "<img src=\"../data/Tooth_paste_Sales_data.png\" alt=\"sales_data\" style=\"width: 700px;\"/>\n"
   ]
  },
  {
   "cell_type": "code",
   "execution_count": 19,
   "metadata": {
    "scrolled": true
   },
   "outputs": [],
   "source": [
    "# write your code here"
   ]
  },
  {
   "cell_type": "markdown",
   "metadata": {},
   "source": [
    "## Exercise 5\n",
    "**Read face cream and facewash product sales data and show it using the bar chart**\n",
    "The bar chart should display the number of units sold per month for each product. Add a separate bar for each product in the same chart.\n",
    "\n",
    "**Expected output**\n",
    "\n",
    "<img src=\"../data/Facewash_and_facecream_sales_data.png\" alt=\"sales_data\" style=\"width: 700px;\"/>\n"
   ]
  },
  {
   "cell_type": "code",
   "execution_count": 19,
   "metadata": {
    "scrolled": true
   },
   "outputs": [],
   "source": [
    "# write your code here"
   ]
  },
  {
   "cell_type": "markdown",
   "metadata": {},
   "source": [
    "## Exercise 6\n",
    "**Read sales data of bathing soap of all months and show it using a bar chart. Save this plot to your hard disk**\n",
    "\n",
    "**Expected output**\n",
    "\n",
    "<img src=\"../data/sales_data_of_bathingsoap.png\" alt=\"sales_data_of_bathingsoap\" style=\"width: 700px;\"/>\n"
   ]
  },
  {
   "cell_type": "code",
   "execution_count": 19,
   "metadata": {
    "scrolled": true
   },
   "outputs": [],
   "source": [
    "# write your code here"
   ]
  },
  {
   "cell_type": "markdown",
   "metadata": {},
   "source": [
    "## Exercise 7\n",
    "**Read the total profit of each month and show it using the histogram to see the most common profit ranges**\n",
    "\n",
    "**Expected output**\n",
    "\n",
    "<img src=\"../data/Profit_data.png\" alt=\"Profit_data\" style=\"width: 700px;\"/>\n"
   ]
  },
  {
   "cell_type": "code",
   "execution_count": 19,
   "metadata": {
    "scrolled": true
   },
   "outputs": [],
   "source": [
    "# write your code here"
   ]
  },
  {
   "cell_type": "markdown",
   "metadata": {},
   "source": [
    "## Exercise 8\n",
    "**Calculate total sale data for last year for each product and show it using a Pie chart**\n",
    "\n",
    "*Note: In Pie chart display Number of units sold per year for each product in percentage.*\n",
    "\n",
    "**Expected output**\n",
    "\n",
    "<img src=\"../data/sales_data_pi_chart.png\" alt=\"sales_data_pi_chart\" style=\"width: 700px;\"/>\n"
   ]
  },
  {
   "cell_type": "code",
   "execution_count": 19,
   "metadata": {
    "scrolled": true
   },
   "outputs": [],
   "source": [
    "# write your code here"
   ]
  },
  {
   "cell_type": "markdown",
   "metadata": {},
   "source": [
    "## Exercise 9\n",
    "**Read Bathing soap facewash of all months and display it using the Subplot**\n",
    "\n",
    "**Expected output**\n",
    "\n",
    "<img src=\"../data/Sales_data_of_a_facewash.png\" alt=\"Sales_data_of_a_facewash\" style=\"width: 700px;\"/>\n"
   ]
  },
  {
   "cell_type": "code",
   "execution_count": 19,
   "metadata": {
    "scrolled": true
   },
   "outputs": [],
   "source": [
    "# write your code here"
   ]
  },
  {
   "cell_type": "markdown",
   "metadata": {},
   "source": [
    "## Exercise 10\n",
    "**Read all product sales data and show it using the stack plot**\n",
    "\n",
    "**Expected output**\n",
    "\n",
    "<img src=\"../data/product_sales_stack_plot.png\" alt=\"product_sales_stack_plot\" style=\"width: 700px;\"/>\n"
   ]
  },
  {
   "cell_type": "code",
   "execution_count": 19,
   "metadata": {
    "scrolled": true
   },
   "outputs": [],
   "source": [
    "# write your code here"
   ]
  }
 ],
 "metadata": {
  "hide_input": false,
  "kernelspec": {
   "display_name": "Python 3",
   "language": "python",
   "name": "python3"
  },
  "language_info": {
   "codemirror_mode": {
    "name": "ipython",
    "version": 3
   },
   "file_extension": ".py",
   "mimetype": "text/x-python",
   "name": "python",
   "nbconvert_exporter": "python",
   "pygments_lexer": "ipython3",
   "version": "3.8.5"
  }
 },
 "nbformat": 4,
 "nbformat_minor": 4
}
