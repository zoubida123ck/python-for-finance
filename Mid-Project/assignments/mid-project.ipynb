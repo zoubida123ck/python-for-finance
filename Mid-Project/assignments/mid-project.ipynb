{
 "cells": [
  {
   "cell_type": "markdown",
   "metadata": {},
   "source": [
    "# Mid-Project"
   ]
  },
  {
   "cell_type": "markdown",
   "metadata": {},
   "source": [
    "## Execise 1: Market-Based Valuation\n",
    "\n",
    "- An at a prespecified price (strike) at a predetermined date (European option) or over a determined\n",
    "    period of time (American option). Some options are settled in actual stocks; most options, like\n",
    "    those on an index, are settled in cash. People or institutions selling options are called option\n",
    "    writers. Those buying options are called option holders.\n",
    "\n",
    "- For a European call option on an index with strike 8,000 and index level of 8,200\n",
    "    at maturity, the option holder receives the difference 8,200 − 8,000 = 200 (e.g. in EUR or\n",
    "    USD) from the option writer. If the index level is below the strike, say at 7,800, the option\n",
    "    expires worthless and the writer does not have to pay anything. We can formalize this via\n",
    "    the so-called inner value (or intrinsic value or payoff)—from the holder's viewpoint—of\n",
    "    the option:\n",
    "    \n",
    "    $ h_T(S, K) = max[S_T − K, 0]$ \n",
    "    \n",
    "    - where T is the maturity date of the option, $S_T$ the index level at this date and $K$ represents the\n",
    "        strike price.\n",
    "       \n",
    "1. Compute the Inner value of a European call option on a stock index with strike of 8,000 dependent on the index level at maturity and plot this inner value function.\n",
    "\n",
    "- Desired output:   \n",
    "![call_inner_values](../data/02_mbv/call_inner_values.png)\n",
    "\n",
    "2. What are the three scenarios that have to be distinguished with regard to the so-called moneyness of an option ? \n",
    ">    - in-the-money (ITM): ...\n",
    ">    - at-the-money (ATM): ...\n",
    ">    - out-of-the-money (OTM): ...\n",
    "\n",
    "3. What influences the present value of such a call option today? ([factors](https://www.investopedia.com/trading/factors-determine-option-pricing/))\n",
    "\n",
    "4. Compute and plot the Black-Scholes-Merton formula.\n",
    "\n",
    "- Input:\n",
    "\n",
    "These heuristic insights are formalized in the seminal work of Black-Scholes-Merton (cf. Black and Scholes (1973) and Merton (1973)) who for the first time derived a closed option pricing formula for a parsimonious set of input parameters. Their formula says mainly the following:\n",
    "\n",
    "$C_0^∗ = C^{BSM}(S_0 , K, T, r, \\sigma)$ ([BSM_option_valuation](https://www.investopedia.com/terms/b/blackscholes.asp))\n",
    "\n",
    "In words, the fair present value of a European call option $C_0^∗$ is given by their formula $C^{BSM}(\\cdot)$ which takes as input parameters:\n",
    "    \n",
    "- $S_0$ the current index level\n",
    "- $K$ the strike price of the option\n",
    "- $T$ the maturity date (equals time-to-maturity viewed from the present date)\n",
    "- $r$ the constant risk-less short rate\n",
    "- $\\sigma$ the volatility of the index, i.e. the standard deviation of the index level returns\n",
    "\n",
    "\n",
    "- Desired output:   \n",
    " ![BSM_call_value](../data/02_mbv/call_values.png)\n"
   ]
  },
  {
   "cell_type": "markdown",
   "metadata": {},
   "source": [
    "## Exercise 2: MonteCarlo Simulation\n",
    "\n",
    "- Implement all models included on the pdf file [MonteCarlo](../data/MonteCarlo.pdf)"
   ]
  }
 ],
 "metadata": {
  "hide_input": false,
  "kernelspec": {
   "display_name": "Python 3",
   "language": "python",
   "name": "python3"
  },
  "language_info": {
   "codemirror_mode": {
    "name": "ipython",
    "version": 3
   },
   "file_extension": ".py",
   "mimetype": "text/x-python",
   "name": "python",
   "nbconvert_exporter": "python",
   "pygments_lexer": "ipython3",
   "version": "3.8.5"
  }
 },
 "nbformat": 4,
 "nbformat_minor": 4
}
