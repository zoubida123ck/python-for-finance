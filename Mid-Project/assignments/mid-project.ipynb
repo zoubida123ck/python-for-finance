{
 "cells": [
  {
   "cell_type": "markdown",
   "metadata": {},
   "source": [
    "# Mid-Project"
   ]
  },
  {
   "cell_type": "markdown",
   "metadata": {},
   "source": [
    "## Execise 1: Market-Based Valuation\n",
    "\n",
    "- An at a prespecified price (strike) at a predetermined date (European option) or over a determined\n",
    "    period of time (American option). Some options are settled in actual stocks; most options, like\n",
    "    those on an index, are settled in cash. People or institutions selling options are called option\n",
    "    writers. Those buying options are called option holders.\n",
    "\n",
    "- For a European call option on an index with strike 8,000 and index level of 8,200\n",
    "    at maturity, the option holder receives the difference 8,200 − 8,000 = 200 (e.g. in EUR or\n",
    "    USD) from the option writer. If the index level is below the strike, say at 7,800, the option\n",
    "    expires worthless and the writer does not have to pay anything. We can formalize this via\n",
    "    the so-called inner value (or intrinsic value or payoff)—from the holder's viewpoint—of\n",
    "    the option:\n",
    "    \n",
    "    $ h_T(S, K) = max[S_T − K, 0]$ \n",
    "    \n",
    "    - where T is the maturity date of the option, $S_T$ the index level at this date and $K$ represents the\n",
    "        strike price.\n",
    "       \n",
    "1. Compute the Inner value of a European call option on a stock index with strike of 8,000 dependent on the index level at maturity and plot this inner value function.\n",
    "\n",
    "- Desired output:   \n",
    "![call_inner_values](../data/02_mbv/call_inner_values.png)\n",
    "\n",
    "2. What are the three scenarios that have to be distinguished with regard to the so-called moneyness of an option ? \n",
    "> As moneyness looks at the value of an option (we will consider in this case a call option) as if it were to be exercised right away. \n",
    ">    - in-the-money (ITM): in this case the strike price of the call option is lower than the current market value, which will generate profit for the option holder\n",
    ">    - at-the-money (ATM): the strike and the market values are both equal, therefore the holder won't generate any profit, neither will he be at loss\n",
    ">    - out-of-the-money (OTM): the strike price of the call is lower than the market value, thus the holder will buy at a higher value if he exercise the option. This latter becomes useless\n",
    "\n",
    "3. What influences the present value of such a call option today? ([factors](https://www.investopedia.com/trading/factors-determine-option-pricing/))\n",
    ">Price of the underlying security, time variable and time decay phenomenon which benefits mostly the option seller, and volatility.\n",
    "\n",
    "4. Compute and plot the Black-Scholes-Merton formula.\n",
    "\n",
    "- Input:\n",
    "\n",
    "These heuristic insights are formalized in the seminal work of Black-Scholes-Merton (cf. Black and Scholes (1973) and Merton (1973)) who for the first time derived a closed option pricing formula for a parsimonious set of input parameters. Their formula says mainly the following:\n",
    "\n",
    "$C_0^∗ = C^{BSM}(S_0 , K, T, r, \\sigma)$ ([BSM_option_valuation](https://www.investopedia.com/terms/b/blackscholes.asp))\n",
    "\n",
    "In words, the fair present value of a European call option $C_0^∗$ is given by their formula $C^{BSM}(\\cdot)$ which takes as input parameters:\n",
    "    \n",
    "- $S_0$ the current index level\n",
    "- $K$ the strike price of the option\n",
    "- $T$ the maturity date (equals time-to-maturity viewed from the present date)\n",
    "- $r$ the constant risk-less short rate\n",
    "- $\\sigma$ the volatility of the index, i.e. the standard deviation of the index level returns\n",
    "\n",
    "\n",
    "- Desired output:   \n",
    " ![BSM_call_value](../data/02_mbv/call_values.png)\n"
   ]
  },
  {
   "cell_type": "code",
   "execution_count": 6,
   "metadata": {},
   "outputs": [
    {
     "data": {
      "image/png": "[encoded data removed]",
      "text/plain": [
       "<Figure size 432x288 with 1 Axes>"
      ]
     },
     "metadata": {
      "needs_background": "light"
     },
     "output_type": "display_data"
    }
   ],
   "source": [
    "import numpy as np\n",
    "import pandas as pd\n",
    "import matplotlib.pyplot as plt\n",
    "import seaborn as sns \n",
    "#Variables \n",
    "K = 8000 #the strike price of the call option\n",
    "S_t= np.array(range(7000,9250,250))\n",
    "#Defining the intrinsic value function\n",
    "def payoff(strike, idx_price):\n",
    "    inner_value=[]\n",
    "    for i in idx_price: \n",
    "        X=i-strike\n",
    "        if X > 0:\n",
    "            inner_value.append(X)\n",
    "        else : \n",
    "            inner_value.append(0)    \n",
    "    fig= plt.plot(idx_price,inner_value, color='b')\n",
    "    plt.xlabel('index level St at maturity')\n",
    "    plt.ylabel('inner value of European call options')\n",
    "    plt.grid(True, color='white')\n",
    "    plt.rcParams.update({'axes.facecolor':'grey'})\n",
    "    sns.set_theme()\n",
    "    return fig\n",
    "inner_val=payoff(K,S_t)"
   ]
  },
  {
   "cell_type": "code",
   "execution_count": 3,
   "metadata": {},
   "outputs": [],
   "source": [
    "class Call_option_payoff:\n",
    "    def payoff(self,strike,idx_price):\n",
    "        inner_value=[]\n",
    "        for i in idx_price: \n",
    "            X=i-strike\n",
    "            if X > 0:\n",
    "                inner_value.append(X)\n",
    "            else : \n",
    "                inner_value.append(0)  \n",
    "        figure = plt.plot(idx_price,inner_value, color='b')\n",
    "        plt.xlabel('index level St at maturity')\n",
    "        plt.ylabel('inner value of European call options')\n",
    "        plt.grid(True, color='white')\n",
    "        plt.rcParams.update({'axes.facecolor':'grey'})\n",
    "        sns.set_theme()\n",
    "        return figure\n",
    "    def _init_(self, strike, idx_price):\n",
    "        self.strike=strike\n",
    "        self.idx_price=idx_price\n",
    "        self.payoff=inner_value"
   ]
  },
  {
   "cell_type": "code",
   "execution_count": 2,
   "metadata": {},
   "outputs": [
    {
     "ename": "NameError",
     "evalue": "name 'Call_option_payoff' is not defined",
     "output_type": "error",
     "traceback": [
      "\u001b[1;31m---------------------------------------------------------------------------\u001b[0m",
      "\u001b[1;31mNameError\u001b[0m                                 Traceback (most recent call last)",
      "\u001b[1;32m~\\AppData\\Local\\Temp/ipykernel_8164/1936608667.py\u001b[0m in \u001b[0;36m<module>\u001b[1;34m\u001b[0m\n\u001b[1;32m----> 1\u001b[1;33m \u001b[0mcall\u001b[0m\u001b[1;33m=\u001b[0m\u001b[0mCall_option_payoff\u001b[0m\u001b[1;33m(\u001b[0m\u001b[1;36m8000\u001b[0m\u001b[1;33m,\u001b[0m\u001b[0mrange\u001b[0m\u001b[1;33m(\u001b[0m\u001b[1;36m4000\u001b[0m\u001b[1;33m,\u001b[0m\u001b[1;36m13000\u001b[0m\u001b[1;33m,\u001b[0m\u001b[1;36m1000\u001b[0m\u001b[1;33m)\u001b[0m\u001b[1;33m)\u001b[0m\u001b[1;33m\u001b[0m\u001b[1;33m\u001b[0m\u001b[0m\n\u001b[0m",
      "\u001b[1;31mNameError\u001b[0m: name 'Call_option_payoff' is not defined"
     ]
    }
   ],
   "source": [
    "call=Call_option_payoff(8000,range(4000,13000,1000))"
   ]
  },
  {
   "cell_type": "code",
   "execution_count": 40,
   "metadata": {},
   "outputs": [],
   "source": [
    "from scipy.stats import norm \n",
    "import datetime\n",
    "def volatility(S):\n",
    "    log_returns=[]\n",
    "    for i in range(0,len(S)): \n",
    "        log_returns.append(np.log(S[i]/S[i-1]))\n",
    "    SD=np.std(log_returns)\n",
    "    return SD\n",
    "def BSM_call(S,K,SD,rf,Year, Month, Day, payoff):\n",
    "    currentDate = datetime.date.today()\n",
    "    maturity= datetime.date(Year, Month, Day)\n",
    "    T=(maturity-currentDate).days\n",
    "    call_price=[]\n",
    "    for i in S: \n",
    "        d1=np.array(np.log(i/K)+(rf+(SD**2)/2)*T)/(np.sqrt(T)*SD)\n",
    "        d2=np.array(d1-np.sqrt(T)*SD)  \n",
    "        c=np.array(i*norm.cdf(d1)-(K*norm.cdf(d2)*np.exp(-rf*T)))\n",
    "        call_price.append(c)\n",
    "    payoff(K, S)\n",
    "    plt.plot(S, call_price,color='red')\n",
    "    plt.xlabel('index level S0')\n",
    "    plt.ylabel('present value C(t=0)')\n",
    "    plt.yticks([0,1000,2000,3000,4000])\n",
    "    plt.grid(True, color='white')\n",
    "    plt.rcParams.update({'axes.facecolor':'grey'})\n",
    "    sns.set_theme()\n",
    "    return call_price"
   ]
  },
  {
   "cell_type": "code",
   "execution_count": 41,
   "metadata": {},
   "outputs": [
    {
     "data": {
      "image/png": "[encoded data removed]",
      "text/plain": [
       "<Figure size 432x288 with 1 Axes>"
      ]
     },
     "metadata": {},
     "output_type": "display_data"
    }
   ],
   "source": [
    "Strike= np.array(range(4000,13000,1000))\n",
    "SD=volatility(Strike)\n",
    "risk_free=0.05\n",
    "call=BSM_call(Strike,8000, SD,risk_free, 2022,3,11, payoff)"
   ]
  },
  {
   "cell_type": "markdown",
   "metadata": {},
   "source": [
    "## Exercise 2: MonteCarlo Simulation\n",
    "\n",
    "- Implement all models included on the pdf file [MonteCarlo](../data/MonteCarlo.pdf)"
   ]
  },
  {
   "cell_type": "code",
   "execution_count": 42,
   "metadata": {},
   "outputs": [],
   "source": [
    "present_value=[]\n",
    "for i, j in zip(Strike,call): \n",
    "    X=i-j\n",
    "    if X > 0:\n",
    "        present_value.append(X)\n",
    "    else : \n",
    "        present_value.append(0) "
   ]
  },
  {
   "cell_type": "code",
   "execution_count": 43,
   "metadata": {},
   "outputs": [
    {
     "data": {
      "text/plain": [
       "[237.100792823323,\n",
       " 256.0233826301692,\n",
       " 271.8167311723719,\n",
       " 285.3578813477243,\n",
       " 297.1974793822483,\n",
       " 307.7049745777513,\n",
       " 317.14075362222866,\n",
       " 325.69545817800827,\n",
       " 333.51297104549485]"
      ]
     },
     "execution_count": 43,
     "metadata": {},
     "output_type": "execute_result"
    }
   ],
   "source": [
    "present_value"
   ]
  },
  {
   "cell_type": "code",
   "execution_count": null,
   "metadata": {},
   "outputs": [],
   "source": []
  }
 ],
 "metadata": {
  "hide_input": false,
  "kernelspec": {
   "display_name": "Python 3 (ipykernel)",
   "language": "python",
   "name": "python3"
  },
  "language_info": {
   "codemirror_mode": {
    "name": "ipython",
    "version": 3
   },
   "file_extension": ".py",
   "mimetype": "text/x-python",
   "name": "python",
   "nbconvert_exporter": "python",
   "pygments_lexer": "ipython3",
   "version": "3.8.5"
  }
 },
 "nbformat": 4,
 "nbformat_minor": 4
}
