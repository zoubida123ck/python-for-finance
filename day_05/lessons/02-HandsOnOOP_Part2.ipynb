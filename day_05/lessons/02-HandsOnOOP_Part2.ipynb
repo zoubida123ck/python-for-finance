{
 "cells": [
  {
   "cell_type": "markdown",
   "metadata": {},
   "source": [
    "# Object-Oriented Programming in Python\n",
    "\n",
    "- Object-oriented programming (OOP) is a programming paradigm based on the concept of \"objects\". The object contains both data and code: Data in the form of properties (often known as attributes), and code, in the form of methods (actions object can perform).\n",
    "\n",
    "- An object-oriented paradigm is to design the program using classes and objects. Python programming language supports different programming approaches like functional programming, modular programming. One of the popular approaches is object-oriented programming (OOP) to solve a programming problem is by creating objects\n",
    "\n",
    "<a href=\"https://imgur.com/G3GibsB\"><img src=\"https://i.imgur.com/G3GibsB.jpg\" title=\"source: imgur.com\" /></a>\n",
    "\n",
    "\n",
    "- An object has the following two characteristics:\n",
    "\n",
    "    - Attribute\n",
    "    - Behavior\n",
    "    \n",
    "\n",
    "- For example, A Car is an object, as it has the following properties:\n",
    "\n",
    "    - name, price, color as attributes\n",
    "    - breaking, acceleration as behavior\n",
    "\n",
    "- One important aspect of OOP in Python is to create reusable code using the concept of inheritance. This concept is also known as DRY (Don't Repeat Yourself)."
   ]
  },
  {
   "cell_type": "markdown",
   "metadata": {},
   "source": [
    "### **Class and Objects**\n",
    "\n",
    "- In Python, everything is an object. A class is a blueprint for the object. To create an object we require a model or plan or blueprint which is nothing but class.\n",
    "\n",
    "- For example, you are creating a vehicle according to the Vehicle blueprint (template). The plan contains all dimensions and structure. Based on these descriptions, we can construct a car, truck, bus, or any vehicle. Here, a car, truck, bus are objects of Vehicle class\n",
    "\n",
    "`A class contains the properties (attribute) and action (behavior) of the object. Properties represent variables, and the methods represent actions. Hence class includes both variables and methods.`\n",
    "![class](../data/python_class_and_object.webp)\n",
    "- Object is an instance of a class. The physical existence of a class is nothing but an object. In other words, the object is an entity that has a state and behavior. It may be any real-world object like the mouse, keyboard, laptop, etc.\n",
    "\n",
    "### **Class Attributes and Methods**\n",
    "\n",
    "When we design a class, we use instance variables and class variables.\n",
    "\n",
    "- In Class, attributes can be defined into two parts:\n",
    "\n",
    "    - Instance variables: The instance variables are attributes attached to an instance of a class. We define instance variables in the constructor ( the `__init__()` method of a class).\n",
    "    - Class Variables: A class variable is a variable that is declared inside of class, but outside of any instance method or `__init()__` method.\n",
    "\n",
    "- Inside a Class, we can define the following three types of methods.\n",
    "\n",
    "    - Instance method: Used to access or modify the object attributes. If we use instance variables inside a method, such methods are called instance methods.\n",
    "    - Class method: Used to access or modify the class state. In method implementation, if we use only class variables, then such type of methods we should declare as a class method.\n",
    "    - Static method: It is a general utility method that performs a task in isolation. Inside this method, we don’t use instance or class variable because this static method doesn’t have access to the class attributes.\n",
    "\n"
   ]
  },
  {
   "cell_type": "code",
   "execution_count": 70,
   "metadata": {},
   "outputs": [
    {
     "name": "stdout",
     "output_type": "stream",
     "text": [
      "<class 'int'>\n",
      "False\n",
      "False\n"
     ]
    }
   ],
   "source": [
    "a = 10\n",
    "a = int(10)\n",
    "b = 12\n",
    "\n",
    "print(type(a))\n",
    "\n",
    "print(a.__gt__(b))\n",
    "\n",
    "print(a > b)\n"
   ]
  },
  {
   "cell_type": "markdown",
   "metadata": {},
   "source": [
    "### Normal Class define"
   ]
  },
  {
   "cell_type": "code",
   "execution_count": 67,
   "metadata": {
    "ExecuteTime": {
     "end_time": "2019-04-16T06:46:53.172761Z",
     "start_time": "2019-04-16T06:46:53.165762Z"
    }
   },
   "outputs": [
    {
     "ename": "SyntaxError",
     "evalue": "invalid syntax (<ipython-input-67-768d9fada952>, line 12)",
     "output_type": "error",
     "traceback": [
      "\u001b[0;36m  File \u001b[0;32m\"<ipython-input-67-768d9fada952>\"\u001b[0;36m, line \u001b[0;32m12\u001b[0m\n\u001b[0;31m    comp1.\u001b[0m\n\u001b[0m          ^\u001b[0m\n\u001b[0;31mSyntaxError\u001b[0m\u001b[0;31m:\u001b[0m invalid syntax\n"
     ]
    }
   ],
   "source": [
    "class Computer:\n",
    "    def config1(self):\n",
    "        print(\"i5, 1Tb computer\")\n",
    "        \n",
    "    def config2(self):\n",
    "        print(\"i5, 1Tb computer\")\n",
    "\n",
    "\n",
    "comp1 = Computer()\n",
    "comp2 = Computer()\n",
    "\n",
    "comp1.\n"
   ]
  },
  {
   "cell_type": "code",
   "execution_count": null,
   "metadata": {},
   "outputs": [],
   "source": [
    "Computer.config(comp1)\n",
    "Computer.config(comp2)\n",
    "\n",
    "comp1.config()\n",
    "comp2.config()\n"
   ]
  },
  {
   "cell_type": "markdown",
   "metadata": {},
   "source": [
    "### Init method with Class(Special Class Method)"
   ]
  },
  {
   "cell_type": "code",
   "execution_count": 2,
   "metadata": {
    "ExecuteTime": {
     "end_time": "2019-04-16T07:39:04.18904Z",
     "start_time": "2019-04-16T07:39:04.184073Z"
    }
   },
   "outputs": [
    {
     "name": "stdout",
     "output_type": "stream",
     "text": [
      "I am init method\n",
      "I am init method\n",
      "i5, 1Tb computer\n",
      "i5, 1Tb computer\n"
     ]
    }
   ],
   "source": [
    "class Computer:\n",
    "    def __init__(self):\n",
    "        print(\"I am init method\")\n",
    "\n",
    "    def config(self):\n",
    "        print(\"i5, 1Tb computer\")\n",
    "\n",
    "\n",
    "comp1 = Computer()\n",
    "comp2 = Computer()\n",
    "\n",
    "comp1.config()\n",
    "comp2.config()"
   ]
  },
  {
   "cell_type": "code",
   "execution_count": 3,
   "metadata": {
    "ExecuteTime": {
     "end_time": "2019-04-16T06:46:54.029925Z",
     "start_time": "2019-04-16T06:46:54.025924Z"
    }
   },
   "outputs": [
    {
     "name": "stdout",
     "output_type": "stream",
     "text": [
      "Config is : i5 4gb\n",
      "Config is : Ryzen 8gb\n"
     ]
    }
   ],
   "source": [
    "class Computer:\n",
    "    def __init__(self, cpu, ram):\n",
    "        self.cpu = cpu\n",
    "        self.ram = ram\n",
    "\n",
    "    def config(self):\n",
    "        print(\"Config is :\", self.cpu, self.ram)\n",
    "\n",
    "\n",
    "c1 = Computer('i5', '4gb')\n",
    "c2 = Computer('Ryzen', '8gb')\n",
    "\n",
    "c1.config()\n",
    "c2.config()"
   ]
  },
  {
   "cell_type": "markdown",
   "metadata": {},
   "source": [
    "### Constructor and Self Keyword and comparing object in Class"
   ]
  },
  {
   "cell_type": "code",
   "execution_count": 30,
   "metadata": {
    "ExecuteTime": {
     "end_time": "2019-04-16T06:46:54.278923Z",
     "start_time": "2019-04-16T06:46:54.272925Z"
    }
   },
   "outputs": [
    {
     "name": "stdout",
     "output_type": "stream",
     "text": [
      "Name :  Happy\n",
      "Age:  35\n",
      "Name :  Navin\n"
     ]
    }
   ],
   "source": [
    "class Person:\n",
    "    def __init__(self): # this method is known as constructor\n",
    "        self.name = \"Navin\"\n",
    "        self.age = 28\n",
    "\n",
    "    def update(self):\n",
    "        self.age = 35\n",
    "\n",
    "    def compare(self, other):\n",
    "        if self.age == other.age:\n",
    "            return True\n",
    "        else:\n",
    "            return False\n",
    "\n",
    "\n",
    "p1 = Person()\n",
    "p2 = Person()\n",
    "\n",
    "p1.name = \"Happy\"\n",
    "p1.age = 30\n",
    "\n",
    "p1.update()\n",
    "\n",
    "print(\"Name : \", p1.name)  # Return the address of Computer\n",
    "print(\"Age: \", p1.age)  # Return the address of Computer\n",
    "print(\"Name : \", p2.name)  # Return the address of Computer"
   ]
  },
  {
   "cell_type": "code",
   "execution_count": 5,
   "metadata": {
    "ExecuteTime": {
     "end_time": "2019-04-16T06:46:54.347948Z",
     "start_time": "2019-04-16T06:46:54.298925Z"
    }
   },
   "outputs": [
    {
     "name": "stdout",
     "output_type": "stream",
     "text": [
      "They are not same\n"
     ]
    }
   ],
   "source": [
    "if p1.compare(p2):\n",
    "    print(\"They are same\")\n",
    "else:\n",
    "    print(\"They are not same\")"
   ]
  },
  {
   "cell_type": "markdown",
   "metadata": {},
   "source": [
    "### Types of Variable used in python ( Instance Variable  and Class variable(Static Variable))"
   ]
  },
  {
   "cell_type": "code",
   "execution_count": 57,
   "metadata": {
    "ExecuteTime": {
     "end_time": "2019-04-16T06:46:54.617923Z",
     "start_time": "2019-04-16T06:46:54.612925Z"
    }
   },
   "outputs": [
    {
     "name": "stdout",
     "output_type": "stream",
     "text": [
      "8 6\n",
      "10 6\n"
     ]
    }
   ],
   "source": [
    "class Car:\n",
    "    \"\"\"\n",
    "    Variable define outside the init method is called Class variable or Static Variable\n",
    "    \"\"\"\n",
    "    wheels = 4\n",
    "\n",
    "    def __init__(self):\n",
    "        \"\"\"\n",
    "        Varible define in the init mathod is called instance varible\n",
    "        \"\"\"\n",
    "        self.mil = 10\n",
    "        self.com = \"BMW\"\n",
    "\n",
    "c1 = Car()\n",
    "c2 = Car()\n",
    "\n",
    "c1.mil = 8\n",
    "\n",
    "Car.wheels = 6\n",
    "\n",
    "print(c1.mil, c1.wheels)\n",
    "print(c2.mil, c2.wheels)"
   ]
  },
  {
   "cell_type": "markdown",
   "metadata": {
    "ExecuteTime": {
     "end_time": "2019-04-15T11:26:56.342122Z",
     "start_time": "2019-04-15T11:26:56.338121Z"
    }
   },
   "source": [
    "### Class Methods(Instance, Class, Static Methods)"
   ]
  },
  {
   "cell_type": "code",
   "execution_count": 7,
   "metadata": {
    "ExecuteTime": {
     "end_time": "2019-04-16T06:46:55.131924Z",
     "start_time": "2019-04-16T06:46:55.126966Z"
    }
   },
   "outputs": [],
   "source": [
    "class Student:\n",
    "\n",
    "    school = \"Telusko\" # class variable\n",
    "\n",
    "    def __init__(self, m1, m2, m3):\n",
    "        self.m1 = m1\n",
    "        self.m2 = m2\n",
    "        self.m3 = m3\n",
    "\n",
    "    def avg(self):\n",
    "        \"\"\"\n",
    "        This is intance method because its work with object like self method\n",
    "        \"\"\"\n",
    "        return (self.m1 + self.m2 + self.m3) / 3\n",
    "\n",
    "    def getm1(self):\n",
    "        \"\"\"\n",
    "        Accessor : It's used to access the value or variable or method\n",
    "        Mutators : It's used to change the value of variable or method\n",
    "        \"\"\"\n",
    "        return self.m1\n",
    "\n",
    "    def setm1(self, value):\n",
    "        self.m1 = value\n",
    "\n",
    "    @classmethod\n",
    "    def getschoolname(cls):\n",
    "        return cls.school\n",
    "\n",
    "    @staticmethod\n",
    "    def info():\n",
    "        print(\"This is static method\")\n",
    "\n",
    "\n",
    "s1 = Student(25, 40, 55)\n",
    "s2 = Student(50, 60, 70)"
   ]
  },
  {
   "cell_type": "code",
   "execution_count": 8,
   "metadata": {
    "ExecuteTime": {
     "end_time": "2019-04-16T06:46:55.214925Z",
     "start_time": "2019-04-16T06:46:55.156924Z"
    }
   },
   "outputs": [
    {
     "data": {
      "text/plain": [
       "(40.0, 60.0)"
      ]
     },
     "execution_count": 8,
     "metadata": {},
     "output_type": "execute_result"
    }
   ],
   "source": [
    "s1.avg(), s2.avg()"
   ]
  },
  {
   "cell_type": "code",
   "execution_count": 9,
   "metadata": {
    "ExecuteTime": {
     "end_time": "2019-04-16T06:46:55.358923Z",
     "start_time": "2019-04-16T06:46:55.354955Z"
    }
   },
   "outputs": [
    {
     "data": {
      "text/plain": [
       "'Telusko'"
      ]
     },
     "execution_count": 9,
     "metadata": {},
     "output_type": "execute_result"
    }
   ],
   "source": [
    "s1.getschoolname()"
   ]
  },
  {
   "cell_type": "code",
   "execution_count": 10,
   "metadata": {
    "ExecuteTime": {
     "end_time": "2019-04-16T06:46:55.587923Z",
     "start_time": "2019-04-16T06:46:55.584954Z"
    }
   },
   "outputs": [
    {
     "name": "stdout",
     "output_type": "stream",
     "text": [
      "Telusko\n"
     ]
    }
   ],
   "source": [
    "print(Student.getschoolname())"
   ]
  },
  {
   "cell_type": "code",
   "execution_count": 11,
   "metadata": {
    "ExecuteTime": {
     "end_time": "2019-04-16T06:46:55.687933Z",
     "start_time": "2019-04-16T06:46:55.684924Z"
    }
   },
   "outputs": [
    {
     "name": "stdout",
     "output_type": "stream",
     "text": [
      "This is static method\n",
      "This is static method\n"
     ]
    }
   ],
   "source": [
    "s1.info()\n",
    "Student.info()"
   ]
  },
  {
   "cell_type": "markdown",
   "metadata": {},
   "source": [
    "### Inner Class(Class inside a class)"
   ]
  },
  {
   "cell_type": "code",
   "execution_count": 12,
   "metadata": {
    "ExecuteTime": {
     "end_time": "2019-04-16T06:46:56.029866Z",
     "start_time": "2019-04-16T06:46:56.021853Z"
    }
   },
   "outputs": [
    {
     "name": "stdout",
     "output_type": "stream",
     "text": [
      "Navin 2\n",
      "Navin 2\n",
      "HP i5 8\n"
     ]
    }
   ],
   "source": [
    "class student:  ## Outer Class\n",
    "    def __init__(self, name, rollno):\n",
    "        self.name = name\n",
    "        self.rollno = rollno\n",
    "        self.lap = self.Laptop(\n",
    "        )  #we can create this object inside the class and also outside the class\n",
    "\n",
    "    def show(self):\n",
    "        print(self.name, self.rollno)\n",
    "        self.lap.show()\n",
    "\n",
    "    class Laptop:  ## Inner Class\n",
    "        def __init__(self):\n",
    "            self.brand = \"HP\"\n",
    "            self.cpu = \"i5\"\n",
    "            self.ram = 8\n",
    "\n",
    "        def show(self):\n",
    "            print(self.brand, self.cpu, self.ram)\n",
    "\n",
    "\n",
    "s1 = student(\"Navin\", 2)\n",
    "s2 = student(\"Ashish\", 3)\n",
    "\n",
    "print(s1.name, s1.rollno)\n",
    "\n",
    "s1.show()"
   ]
  },
  {
   "cell_type": "code",
   "execution_count": 13,
   "metadata": {
    "ExecuteTime": {
     "end_time": "2019-04-16T06:46:56.376851Z",
     "start_time": "2019-04-16T06:46:56.37485Z"
    }
   },
   "outputs": [],
   "source": [
    "s1.lap.brand\n",
    "\n",
    "lap1 = s1.lap\n",
    "lap2 = s2.lap"
   ]
  },
  {
   "cell_type": "code",
   "execution_count": 14,
   "metadata": {
    "ExecuteTime": {
     "end_time": "2019-04-16T06:46:56.623852Z",
     "start_time": "2019-04-16T06:46:56.395879Z"
    }
   },
   "outputs": [
    {
     "name": "stdout",
     "output_type": "stream",
     "text": [
      "139689858614512\n",
      "139689858614272\n"
     ]
    }
   ],
   "source": [
    "print(id(lap1))\n",
    "print(id(lap2))"
   ]
  },
  {
   "cell_type": "code",
   "execution_count": 15,
   "metadata": {
    "ExecuteTime": {
     "end_time": "2019-04-16T06:46:56.718851Z",
     "start_time": "2019-04-16T06:46:56.62585Z"
    }
   },
   "outputs": [
    {
     "name": "stdout",
     "output_type": "stream",
     "text": [
      "<__main__.student.Laptop object at 0x7f0c146582b0>\n"
     ]
    }
   ],
   "source": [
    "# create Laptop object outside the class\n",
    "\n",
    "laptop1 = student.Laptop()\n",
    "print(laptop1)"
   ]
  },
  {
   "cell_type": "markdown",
   "metadata": {},
   "source": [
    "### Inheritance(One class Access the property of other Class)"
   ]
  },
  {
   "cell_type": "code",
   "execution_count": 16,
   "metadata": {
    "ExecuteTime": {
     "end_time": "2019-04-16T06:46:56.98085Z",
     "start_time": "2019-04-16T06:46:56.974897Z"
    }
   },
   "outputs": [
    {
     "name": "stdout",
     "output_type": "stream",
     "text": [
      "feature1 is working\n",
      "feature2 is working\n",
      "feature3 is working\n",
      "feature4 is working\n"
     ]
    }
   ],
   "source": [
    "class A:\n",
    "    def feature1(self):\n",
    "        print(\"feature1 is working\")\n",
    "\n",
    "    def feature2(self):\n",
    "        print(\"feature2 is working\")\n",
    "        \n",
    "class B: ## single level inheritance\n",
    "    def feature3(self):\n",
    "        print(\"feature3 is working\")\n",
    "\n",
    "    def feature4(self):\n",
    "        print(\"feature4 is working\")\n",
    "    \n",
    "class C(B): #hierarchical inheritance\n",
    "    def feature5(self):\n",
    "        print(\"feature5 is working\")\n",
    "\n",
    "class D(A,B): #multiple inheritance\n",
    "    def feature6(self):\n",
    "        print(\"feature6 is working\")\n",
    "    \n",
    "a1 = A()\n",
    "b1 = B()\n",
    "a1.feature1()\n",
    "a1.feature2()\n",
    "b1.feature3()\n",
    "b1.feature4()"
   ]
  },
  {
   "cell_type": "code",
   "execution_count": 17,
   "metadata": {
    "ExecuteTime": {
     "end_time": "2019-04-16T06:46:57.118875Z",
     "start_time": "2019-04-16T06:46:57.05588Z"
    }
   },
   "outputs": [],
   "source": [
    "c1 = C()\n",
    "d1 = D()"
   ]
  },
  {
   "cell_type": "code",
   "execution_count": 18,
   "metadata": {
    "ExecuteTime": {
     "end_time": "2019-04-16T06:46:57.627496Z",
     "start_time": "2019-04-16T06:46:57.623496Z"
    }
   },
   "outputs": [
    {
     "name": "stdout",
     "output_type": "stream",
     "text": [
      "feature3 is working\n",
      "feature6 is working\n"
     ]
    }
   ],
   "source": [
    "c1.feature3()\n",
    "d1.feature6()"
   ]
  },
  {
   "cell_type": "markdown",
   "metadata": {},
   "source": [
    "### Method Resolution Order(MRO) and Constructor"
   ]
  },
  {
   "cell_type": "code",
   "execution_count": 19,
   "metadata": {
    "ExecuteTime": {
     "end_time": "2019-04-16T06:46:58.331491Z",
     "start_time": "2019-04-16T06:46:58.327502Z"
    }
   },
   "outputs": [],
   "source": [
    "class A:\n",
    "    def __init__(Self):\n",
    "        print(\"It's A init\")\n",
    "\n",
    "    def feature1(self):\n",
    "        print(\"feature1 is working\")\n",
    "\n",
    "    def feature2(self):\n",
    "        print(\"feature2 is working\")\n",
    "\n",
    "\n",
    "class B(A):  ## single level inheritance\n",
    "    def __init__(self):\n",
    "        super().__init__()\n",
    "        print(\"It's B init\")\n",
    "\n",
    "    def feature3(self):\n",
    "        print(\"feature3 is working\")\n",
    "\n",
    "    def feature4(self):\n",
    "        print(\"feature4 is working\")"
   ]
  },
  {
   "cell_type": "code",
   "execution_count": 20,
   "metadata": {
    "ExecuteTime": {
     "end_time": "2019-04-16T06:46:58.729491Z",
     "start_time": "2019-04-16T06:46:58.725489Z"
    }
   },
   "outputs": [
    {
     "name": "stdout",
     "output_type": "stream",
     "text": [
      "It's A init\n",
      "It's A init\n",
      "It's B init\n"
     ]
    }
   ],
   "source": [
    "a2 = A()\n",
    "a3 = B()"
   ]
  },
  {
   "cell_type": "code",
   "execution_count": 53,
   "metadata": {
    "ExecuteTime": {
     "end_time": "2019-04-16T06:46:59.163387Z",
     "start_time": "2019-04-16T06:46:59.157418Z"
    }
   },
   "outputs": [
    {
     "name": "stdout",
     "output_type": "stream",
     "text": [
      "It's A init\n",
      "It's C init\n"
     ]
    }
   ],
   "source": [
    "class A:\n",
    "    def __init__(Self):\n",
    "        print(\"It's A init\")\n",
    "\n",
    "    def feature1(self):\n",
    "        print(\"feature1-A is working\")\n",
    "\n",
    "    def feature2(self):\n",
    "        print(\"feature2 is working\")\n",
    "\n",
    "\n",
    "class B:  ## single level inheritance\n",
    "    def __init__(self):\n",
    "        print(\"It's B init\")\n",
    "\n",
    "    def feature1(self):\n",
    "        print(\"feature1-B is working\")\n",
    "\n",
    "    def feature4(self):\n",
    "        print(\"feature4 is working\")\n",
    "\n",
    "\n",
    "class C(A, B):\n",
    "    def __init__(self):\n",
    "        super().__init__()\n",
    "        print(\"It's C init\")\n",
    "        \n",
    "    #def feat(self):\n",
    "    #    super().feature2()\n",
    "\n",
    "\n",
    "cam = C()"
   ]
  },
  {
   "cell_type": "code",
   "execution_count": 56,
   "metadata": {
    "ExecuteTime": {
     "end_time": "2019-04-16T06:47:00.85436Z",
     "start_time": "2019-04-16T06:47:00.851357Z"
    }
   },
   "outputs": [
    {
     "name": "stdout",
     "output_type": "stream",
     "text": [
      "feature1-A is working\n",
      "feature2 is working\n",
      "feature4 is working\n"
     ]
    }
   ],
   "source": [
    "cam.feature1()\n",
    "cam.feature2()\n",
    "cam.feature4()"
   ]
  },
  {
   "cell_type": "markdown",
   "metadata": {},
   "source": [
    "### Polymorphrism\n",
    "\n",
    "* One things take many form\n",
    "* Four way to implement this methods\n",
    "    * Duck Typing\n",
    "    * Operator Overloading\n",
    "    * Method Overloading\n",
    "    * Method Overriding"
   ]
  },
  {
   "cell_type": "markdown",
   "metadata": {},
   "source": [
    "#### Duck Typing"
   ]
  },
  {
   "cell_type": "code",
   "execution_count": 23,
   "metadata": {
    "ExecuteTime": {
     "end_time": "2019-04-16T06:47:02.618206Z",
     "start_time": "2019-04-16T06:47:02.614203Z"
    }
   },
   "outputs": [],
   "source": [
    "class IDE:\n",
    "    def execute(self):\n",
    "        print(\"Compiling\")\n",
    "        print(\"Running\")\n",
    "        \n",
    "\n",
    "class Laptop:\n",
    "    def code(self,ide):\n",
    "        ide.execute()\n",
    "        \n",
    "        \n",
    "class Editor:\n",
    "    def execute(self):\n",
    "        print(\"Spell Check\")\n",
    "        print(\"Compiling\")\n",
    "        print(\"Running\")\n",
    "        \n",
    "        \n",
    "    "
   ]
  },
  {
   "cell_type": "code",
   "execution_count": 24,
   "metadata": {
    "ExecuteTime": {
     "end_time": "2019-04-16T06:47:03.356202Z",
     "start_time": "2019-04-16T06:47:03.352203Z"
    }
   },
   "outputs": [
    {
     "name": "stdout",
     "output_type": "stream",
     "text": [
      "Spell Check\n",
      "Compiling\n",
      "Running\n"
     ]
    }
   ],
   "source": [
    "ide = Editor()\n",
    "lap1 = Laptop()\n",
    "lap1.code(ide)"
   ]
  },
  {
   "cell_type": "markdown",
   "metadata": {},
   "source": [
    "#### Operator Overloading in python"
   ]
  },
  {
   "cell_type": "code",
   "execution_count": 89,
   "metadata": {
    "ExecuteTime": {
     "end_time": "2019-04-16T07:02:51.565554Z",
     "start_time": "2019-04-16T07:02:51.558555Z"
    }
   },
   "outputs": [
    {
     "name": "stdout",
     "output_type": "stream",
     "text": [
      "115\n",
      "s1 wins\n"
     ]
    }
   ],
   "source": [
    "class Student:\n",
    "    def __init__(self, m1, m2, m3):\n",
    "        self.m1 = m1\n",
    "        self.m2 = m2\n",
    "        self.m3 = m3\n",
    "    \n",
    "    def __add__(self, other):\n",
    "        m1 = self.m1 + other.m1\n",
    "        m2 = self.m2 + other.m2\n",
    "        m3 = self.m3 + other.m3\n",
    "        s3 = Student(m1, m2, m3)\n",
    "        \n",
    "        return s3\n",
    "    \n",
    "    def __gt__(self, other):\n",
    "        r1 = self.m1 + self.m2\n",
    "        r2 = other.m1 + self.m2\n",
    "        if r1 > r2:\n",
    "            return True\n",
    "        else:\n",
    "            return False\n",
    "        \n",
    "    def __str__(self):\n",
    "        return '{} {}'.format(self.m1, self.m2)\n",
    "        \n",
    "\n",
    "\n",
    "s1 = Student(50, 50, 25)\n",
    "s2 = Student(40, 70, 20)\n",
    "s3 = Student(25, 40, 20)\n",
    "\n",
    "s4 = s1 + s2 + s3\n",
    "\n",
    "print(s4.m1)\n",
    "\n",
    "if s1 > s2:\n",
    "    print(\"s1 wins\")\n",
    "else:\n",
    "    print(\"s2 wins\")\n",
    "    \n",
    "    \n",
    "a = \"titi\"\n",
    "b = 1\n"
   ]
  },
  {
   "cell_type": "code",
   "execution_count": 90,
   "metadata": {
    "ExecuteTime": {
     "end_time": "2019-04-16T07:02:52.786146Z",
     "start_time": "2019-04-16T07:02:52.782147Z"
    }
   },
   "outputs": [
    {
     "name": "stdout",
     "output_type": "stream",
     "text": [
      "10\n",
      "50 50\n"
     ]
    }
   ],
   "source": [
    "s = str(10)\n",
    "print(s)\n",
    "\n",
    "s1 = Student(50, 50, 25)\n",
    "print(s1)"
   ]
  },
  {
   "cell_type": "markdown",
   "metadata": {},
   "source": [
    "#### Method Overloading and Method Overriding"
   ]
  },
  {
   "cell_type": "code",
   "execution_count": 27,
   "metadata": {
    "ExecuteTime": {
     "end_time": "2019-04-16T07:13:08.229764Z",
     "start_time": "2019-04-16T07:13:08.223763Z"
    }
   },
   "outputs": [
    {
     "data": {
      "text/plain": [
       "1"
      ]
     },
     "execution_count": 27,
     "metadata": {},
     "output_type": "execute_result"
    }
   ],
   "source": [
    "# this is example of method overloading\n",
    "class Student:\n",
    "    def __init__(self, m1, m2):\n",
    "        self.m1 = m1\n",
    "        self.m2 = m2\n",
    "    \n",
    "    def sum(self, a =None,b = None, c = None):\n",
    "        s = 0\n",
    "        if a!=None and b!=None and c!=None:\n",
    "            s = a + b + c \n",
    "        elif a!=None and b!=None:\n",
    "            s = a + b\n",
    "        else: \n",
    "            s = a\n",
    "        return s\n",
    "\n",
    "s1 = Student(50, 50)\n",
    "\n",
    "s1.sum(1)"
   ]
  },
  {
   "cell_type": "code",
   "execution_count": 28,
   "metadata": {
    "ExecuteTime": {
     "end_time": "2019-04-16T07:22:30.044023Z",
     "start_time": "2019-04-16T07:22:30.040023Z"
    }
   },
   "outputs": [],
   "source": [
    "# this is example of method overriding\n",
    "\n",
    "class A:\n",
    "    def show(self):\n",
    "        print(\"I have nokia 1100 phone\")\n",
    "        \n",
    "class B(A):\n",
    "    def show(self):\n",
    "        print(\"I have MotoG3\")\n",
    "\n",
    "\n",
    "abc = B()"
   ]
  },
  {
   "cell_type": "code",
   "execution_count": 29,
   "metadata": {
    "ExecuteTime": {
     "end_time": "2019-04-16T07:22:30.41018Z",
     "start_time": "2019-04-16T07:22:30.40718Z"
    }
   },
   "outputs": [
    {
     "name": "stdout",
     "output_type": "stream",
     "text": [
      "I have MotoG3\n"
     ]
    }
   ],
   "source": [
    "abc.show()"
   ]
  }
 ],
 "metadata": {
  "hide_input": false,
  "kernelspec": {
   "display_name": "Python 3",
   "language": "python",
   "name": "python3"
  },
  "language_info": {
   "codemirror_mode": {
    "name": "ipython",
    "version": 3
   },
   "file_extension": ".py",
   "mimetype": "text/x-python",
   "name": "python",
   "nbconvert_exporter": "python",
   "pygments_lexer": "ipython3",
   "version": "3.8.5"
  },
  "latex_envs": {
   "LaTeX_envs_menu_present": true,
   "autoclose": true,
   "autocomplete": true,
   "bibliofile": "biblio.bib",
   "cite_by": "apalike",
   "current_citInitial": 1,
   "eqLabelWithNumbers": true,
   "eqNumInitial": 1,
   "hotkeys": {
    "equation": "Ctrl-E",
    "itemize": "Ctrl-I"
   },
   "labels_anchors": false,
   "latex_user_defs": false,
   "report_style_numbering": true,
   "user_envs_cfg": true
  },
  "toc": {
   "base_numbering": 1,
   "nav_menu": {},
   "number_sections": true,
   "sideBar": true,
   "skip_h1_title": false,
   "title_cell": "Table of Contents",
   "title_sidebar": "Contents",
   "toc_cell": false,
   "toc_position": {
    "height": "calc(100% - 180px)",
    "left": "10px",
    "top": "150px",
    "width": "215.594px"
   },
   "toc_section_display": true,
   "toc_window_display": false
  }
 },
 "nbformat": 4,
 "nbformat_minor": 4
}
